{
 "cells": [
  {
   "cell_type": "code",
   "execution_count": 11,
   "id": "d0c27b6b-fa40-4906-96ef-b3307c0cc613",
   "metadata": {},
   "outputs": [],
   "source": [
    "import pandas as pd"
   ]
  },
  {
   "cell_type": "code",
   "execution_count": 13,
   "id": "04de23e9-a8d4-4cbc-bfa1-09be2af108c1",
   "metadata": {},
   "outputs": [],
   "source": [
    "df = pd.read_csv('wayback_snapshots_with_timestamps_23Dec2024_business.csv')"
   ]
  },
  {
   "cell_type": "code",
   "execution_count": 15,
   "id": "8841438e-3638-4fd5-a5df-8676eeca20da",
   "metadata": {},
   "outputs": [
    {
     "name": "stdout",
     "output_type": "stream",
     "text": [
      "<class 'pandas.core.frame.DataFrame'>\n",
      "RangeIndex: 2413 entries, 0 to 2412\n",
      "Data columns (total 8 columns):\n",
      " #   Column          Non-Null Count  Dtype \n",
      "---  ------          --------------  ----- \n",
      " 0   title           2413 non-null   object\n",
      " 1   h1_tags         2413 non-null   object\n",
      " 2   word_count      2413 non-null   int64 \n",
      " 3   keywords        2413 non-null   object\n",
      " 4   description     2413 non-null   object\n",
      " 5   DC.Description  2413 non-null   object\n",
      " 6   snapshot_url    2413 non-null   object\n",
      " 7   Timestamp       2413 non-null   object\n",
      "dtypes: int64(1), object(7)\n",
      "memory usage: 150.9+ KB\n"
     ]
    }
   ],
   "source": [
    "df.info()"
   ]
  },
  {
   "cell_type": "code",
   "execution_count": 17,
   "id": "f9bb6344-15da-4230-b91c-cd1a1bd862cf",
   "metadata": {},
   "outputs": [
    {
     "data": {
      "text/plain": [
       "(2413, 8)"
      ]
     },
     "execution_count": 17,
     "metadata": {},
     "output_type": "execute_result"
    }
   ],
   "source": [
    "df.shape"
   ]
  },
  {
   "cell_type": "code",
   "execution_count": 19,
   "id": "e08cf8c3-d51e-42b0-8817-f4c0821d3e50",
   "metadata": {},
   "outputs": [
    {
     "name": "stdout",
     "output_type": "stream",
     "text": [
      "Missing Values in Each Column:\n",
      "title             0\n",
      "h1_tags           0\n",
      "word_count        0\n",
      "keywords          0\n",
      "description       0\n",
      "DC.Description    0\n",
      "snapshot_url      0\n",
      "Timestamp         0\n",
      "dtype: int64\n"
     ]
    }
   ],
   "source": [
    "# 1. Identify missing values\n",
    "missing_values = df.isnull().sum()\n",
    "print(\"Missing Values in Each Column:\")\n",
    "print(missing_values)"
   ]
  },
  {
   "cell_type": "code",
   "execution_count": 21,
   "id": "09ce275e-89a1-4dfa-b1ea-13cdf3c163ed",
   "metadata": {},
   "outputs": [
    {
     "data": {
      "text/html": [
       "<div>\n",
       "<style scoped>\n",
       "    .dataframe tbody tr th:only-of-type {\n",
       "        vertical-align: middle;\n",
       "    }\n",
       "\n",
       "    .dataframe tbody tr th {\n",
       "        vertical-align: top;\n",
       "    }\n",
       "\n",
       "    .dataframe thead th {\n",
       "        text-align: right;\n",
       "    }\n",
       "</style>\n",
       "<table border=\"1\" class=\"dataframe\">\n",
       "  <thead>\n",
       "    <tr style=\"text-align: right;\">\n",
       "      <th></th>\n",
       "      <th>title</th>\n",
       "      <th>h1_tags</th>\n",
       "      <th>word_count</th>\n",
       "      <th>keywords</th>\n",
       "      <th>description</th>\n",
       "      <th>DC.Description</th>\n",
       "      <th>snapshot_url</th>\n",
       "      <th>Timestamp</th>\n",
       "    </tr>\n",
       "  </thead>\n",
       "  <tbody>\n",
       "    <tr>\n",
       "      <th>0</th>\n",
       "      <td>Business support, information and advice | Bus...</td>\n",
       "      <td>['Business support, information and advice']</td>\n",
       "      <td>863</td>\n",
       "      <td>No keywords found</td>\n",
       "      <td>No description found</td>\n",
       "      <td>No description found</td>\n",
       "      <td>https://web.archive.org/web/20150101014408/htt...</td>\n",
       "      <td>1/01/2015 1:44</td>\n",
       "    </tr>\n",
       "    <tr>\n",
       "      <th>1</th>\n",
       "      <td>Business support, information and advice | Bus...</td>\n",
       "      <td>['Business support, information and advice']</td>\n",
       "      <td>863</td>\n",
       "      <td>No keywords found</td>\n",
       "      <td>No description found</td>\n",
       "      <td>No description found</td>\n",
       "      <td>https://web.archive.org/web/20150102151127/htt...</td>\n",
       "      <td>2/01/2015 15:11</td>\n",
       "    </tr>\n",
       "    <tr>\n",
       "      <th>2</th>\n",
       "      <td>Business support, information and advice | Bus...</td>\n",
       "      <td>['Business support, information and advice']</td>\n",
       "      <td>863</td>\n",
       "      <td>No keywords found</td>\n",
       "      <td>No description found</td>\n",
       "      <td>No description found</td>\n",
       "      <td>https://web.archive.org/web/20150102154950/htt...</td>\n",
       "      <td>2/01/2015 15:49</td>\n",
       "    </tr>\n",
       "    <tr>\n",
       "      <th>3</th>\n",
       "      <td>Business support, information and advice | Bus...</td>\n",
       "      <td>['Business support, information and advice']</td>\n",
       "      <td>865</td>\n",
       "      <td>No keywords found</td>\n",
       "      <td>No description found</td>\n",
       "      <td>No description found</td>\n",
       "      <td>https://web.archive.org/web/20150105232423/htt...</td>\n",
       "      <td>5/01/2015 23:24</td>\n",
       "    </tr>\n",
       "    <tr>\n",
       "      <th>4</th>\n",
       "      <td>Business support, information and advice | Bus...</td>\n",
       "      <td>['Business support, information and advice']</td>\n",
       "      <td>818</td>\n",
       "      <td>No keywords found</td>\n",
       "      <td>No description found</td>\n",
       "      <td>No description found</td>\n",
       "      <td>https://web.archive.org/web/20150108121215/htt...</td>\n",
       "      <td>8/01/2015 12:12</td>\n",
       "    </tr>\n",
       "  </tbody>\n",
       "</table>\n",
       "</div>"
      ],
      "text/plain": [
       "                                               title  \\\n",
       "0  Business support, information and advice | Bus...   \n",
       "1  Business support, information and advice | Bus...   \n",
       "2  Business support, information and advice | Bus...   \n",
       "3  Business support, information and advice | Bus...   \n",
       "4  Business support, information and advice | Bus...   \n",
       "\n",
       "                                        h1_tags  word_count  \\\n",
       "0  ['Business support, information and advice']         863   \n",
       "1  ['Business support, information and advice']         863   \n",
       "2  ['Business support, information and advice']         863   \n",
       "3  ['Business support, information and advice']         865   \n",
       "4  ['Business support, information and advice']         818   \n",
       "\n",
       "            keywords           description        DC.Description  \\\n",
       "0  No keywords found  No description found  No description found   \n",
       "1  No keywords found  No description found  No description found   \n",
       "2  No keywords found  No description found  No description found   \n",
       "3  No keywords found  No description found  No description found   \n",
       "4  No keywords found  No description found  No description found   \n",
       "\n",
       "                                        snapshot_url        Timestamp  \n",
       "0  https://web.archive.org/web/20150101014408/htt...   1/01/2015 1:44  \n",
       "1  https://web.archive.org/web/20150102151127/htt...  2/01/2015 15:11  \n",
       "2  https://web.archive.org/web/20150102154950/htt...  2/01/2015 15:49  \n",
       "3  https://web.archive.org/web/20150105232423/htt...  5/01/2015 23:24  \n",
       "4  https://web.archive.org/web/20150108121215/htt...  8/01/2015 12:12  "
      ]
     },
     "execution_count": 21,
     "metadata": {},
     "output_type": "execute_result"
    }
   ],
   "source": [
    "df.head()"
   ]
  },
  {
   "cell_type": "code",
   "execution_count": 23,
   "id": "2b65a9f1-0b80-4d8b-81d7-0a3cdf4568cf",
   "metadata": {},
   "outputs": [],
   "source": [
    "# 3. Remove rows containing 'Error'\n",
    "df = df[~df.eq('Error').any(axis=1)]"
   ]
  },
  {
   "cell_type": "code",
   "execution_count": 25,
   "id": "ee477992-3f34-4969-9693-59e1b95700df",
   "metadata": {},
   "outputs": [
    {
     "name": "stdout",
     "output_type": "stream",
     "text": [
      "\n",
      "Rows after removing 'Error':\n",
      "                                               title  \\\n",
      "0  Business support, information and advice | Bus...   \n",
      "1  Business support, information and advice | Bus...   \n",
      "2  Business support, information and advice | Bus...   \n",
      "3  Business support, information and advice | Bus...   \n",
      "4  Business support, information and advice | Bus...   \n",
      "\n",
      "                                        h1_tags  word_count  \\\n",
      "0  ['Business support, information and advice']         863   \n",
      "1  ['Business support, information and advice']         863   \n",
      "2  ['Business support, information and advice']         863   \n",
      "3  ['Business support, information and advice']         865   \n",
      "4  ['Business support, information and advice']         818   \n",
      "\n",
      "            keywords           description        DC.Description  \\\n",
      "0  No keywords found  No description found  No description found   \n",
      "1  No keywords found  No description found  No description found   \n",
      "2  No keywords found  No description found  No description found   \n",
      "3  No keywords found  No description found  No description found   \n",
      "4  No keywords found  No description found  No description found   \n",
      "\n",
      "                                        snapshot_url        Timestamp  \n",
      "0  https://web.archive.org/web/20150101014408/htt...   1/01/2015 1:44  \n",
      "1  https://web.archive.org/web/20150102151127/htt...  2/01/2015 15:11  \n",
      "2  https://web.archive.org/web/20150102154950/htt...  2/01/2015 15:49  \n",
      "3  https://web.archive.org/web/20150105232423/htt...  5/01/2015 23:24  \n",
      "4  https://web.archive.org/web/20150108121215/htt...  8/01/2015 12:12  \n"
     ]
    }
   ],
   "source": [
    "# Verify removal\n",
    "print(\"\\nRows after removing 'Error':\")\n",
    "print(df.head())"
   ]
  },
  {
   "cell_type": "code",
   "execution_count": 27,
   "id": "df0371aa-d90d-4fe2-8d1b-5d43f6216ac2",
   "metadata": {},
   "outputs": [
    {
     "name": "stdout",
     "output_type": "stream",
     "text": [
      "Number of Matching Rows: 149\n",
      "Number of Non-Matching Rows: 2224\n"
     ]
    }
   ],
   "source": [
    "# 4. Check if \"description\" and \"DC.Description\" match\n",
    "df['description_DC_match'] = df['description'] == df['DC.Description']\n",
    "\n",
    "# Display matching and non-matching rows\n",
    "matching_rows = df[df['description_DC_match'] == True]\n",
    "non_matching_rows = df[df['description_DC_match'] == False]\n",
    "\n",
    "print(\"Number of Matching Rows:\", len(matching_rows))\n",
    "print(\"Number of Non-Matching Rows:\", len(non_matching_rows))\n"
   ]
  },
  {
   "cell_type": "code",
   "execution_count": 29,
   "id": "07a0878a-8451-4c7c-97a0-8cef7ee29926",
   "metadata": {},
   "outputs": [
    {
     "name": "stdout",
     "output_type": "stream",
     "text": [
      "Unique values in 'description':\n",
      "['No description found'\n",
      " 'We package government information into handy tools and advice to help small businesses like yours get on and get ahead']\n"
     ]
    }
   ],
   "source": [
    "# Display unique values in 'DC.Description' column\n",
    "unique_description = df['description'].unique()\n",
    "print(\"Unique values in 'description':\")\n",
    "print(unique_description)"
   ]
  },
  {
   "cell_type": "code",
   "execution_count": 31,
   "id": "68fe52cc-b3d1-428f-a340-3c39294916e9",
   "metadata": {},
   "outputs": [
    {
     "name": "stdout",
     "output_type": "stream",
     "text": [
      "\n",
      "Unique values in 'DC.Description':\n",
      "['No description found']\n"
     ]
    }
   ],
   "source": [
    "# Display unique values in 'DC.Description' column\n",
    "unique_dc_description = df['DC.Description'].unique()\n",
    "print(\"\\nUnique values in 'DC.Description':\")\n",
    "print(unique_dc_description)"
   ]
  },
  {
   "cell_type": "code",
   "execution_count": 35,
   "id": "14c50fdc-d819-41be-b975-9bf1135db897",
   "metadata": {},
   "outputs": [],
   "source": [
    "# 5. Drop the \"DC.Description' column, as the 'description' contains more information\n",
    "df.drop(columns=['DC.Description'], inplace=True)"
   ]
  },
  {
   "cell_type": "code",
   "execution_count": 37,
   "id": "04c3d563-0591-48f3-bad3-30ce0cab6c08",
   "metadata": {},
   "outputs": [
    {
     "name": "stdout",
     "output_type": "stream",
     "text": [
      "<class 'pandas.core.frame.DataFrame'>\n",
      "Index: 2373 entries, 0 to 2412\n",
      "Data columns (total 8 columns):\n",
      " #   Column                Non-Null Count  Dtype \n",
      "---  ------                --------------  ----- \n",
      " 0   title                 2373 non-null   object\n",
      " 1   h1_tags               2373 non-null   object\n",
      " 2   word_count            2373 non-null   int64 \n",
      " 3   keywords              2373 non-null   object\n",
      " 4   description           2373 non-null   object\n",
      " 5   snapshot_url          2373 non-null   object\n",
      " 6   Timestamp             2373 non-null   object\n",
      " 7   description_DC_match  2373 non-null   bool  \n",
      "dtypes: bool(1), int64(1), object(6)\n",
      "memory usage: 150.6+ KB\n"
     ]
    }
   ],
   "source": [
    "df.info()"
   ]
  },
  {
   "cell_type": "code",
   "execution_count": 39,
   "id": "0dd5f08c-1793-4f17-a398-656cff6b9711",
   "metadata": {},
   "outputs": [],
   "source": [
    "df.drop(columns=['description_DC_match'], inplace=True)"
   ]
  },
  {
   "cell_type": "code",
   "execution_count": 41,
   "id": "56612f20-1df7-4980-976d-ade14f594ede",
   "metadata": {},
   "outputs": [
    {
     "name": "stdout",
     "output_type": "stream",
     "text": [
      "<class 'pandas.core.frame.DataFrame'>\n",
      "Index: 2373 entries, 0 to 2412\n",
      "Data columns (total 7 columns):\n",
      " #   Column        Non-Null Count  Dtype \n",
      "---  ------        --------------  ----- \n",
      " 0   title         2373 non-null   object\n",
      " 1   h1_tags       2373 non-null   object\n",
      " 2   word_count    2373 non-null   int64 \n",
      " 3   keywords      2373 non-null   object\n",
      " 4   description   2373 non-null   object\n",
      " 5   snapshot_url  2373 non-null   object\n",
      " 6   Timestamp     2373 non-null   object\n",
      "dtypes: int64(1), object(6)\n",
      "memory usage: 148.3+ KB\n"
     ]
    }
   ],
   "source": [
    "df.info()"
   ]
  },
  {
   "cell_type": "code",
   "execution_count": 43,
   "id": "2e95c20d-0e3a-458a-b64f-c7a0886e862b",
   "metadata": {},
   "outputs": [
    {
     "name": "stdout",
     "output_type": "stream",
     "text": [
      "Empty lists in 'h1_tags' have been replaced with 'null'.\n"
     ]
    }
   ],
   "source": [
    "# 6. Replace the \"h1_tag\"= \"[]\" with \"null\"\n",
    "\n",
    "if 'h1_tags' in df.columns:\n",
    "    df['h1_tags'] = df['h1_tags'].apply(lambda x: 'null' if str(x).strip() == '[]' else x)\n",
    "    print(\"Empty lists in 'h1_tags' have been replaced with 'null'.\")\n",
    "else:\n",
    "    print(\"Column 'h1_tags' does not exist in the dataset.\")"
   ]
  },
  {
   "cell_type": "code",
   "execution_count": 45,
   "id": "80876a92-f35a-4454-b223-7f586b73e3cf",
   "metadata": {},
   "outputs": [
    {
     "data": {
      "text/plain": [
       "0       ['Business support, information and advice']\n",
       "1       ['Business support, information and advice']\n",
       "2       ['Business support, information and advice']\n",
       "3       ['Business support, information and advice']\n",
       "4       ['Business support, information and advice']\n",
       "                            ...                     \n",
       "2408                  ['Helping businesses succeed']\n",
       "2409                  ['Helping businesses succeed']\n",
       "2410                  ['Helping businesses succeed']\n",
       "2411                  ['Helping businesses succeed']\n",
       "2412                  ['Helping businesses succeed']\n",
       "Name: h1_tags, Length: 2373, dtype: object"
      ]
     },
     "execution_count": 45,
     "metadata": {},
     "output_type": "execute_result"
    }
   ],
   "source": [
    "df['h1_tags']"
   ]
  },
  {
   "cell_type": "code",
   "execution_count": 47,
   "id": "c20225ec-130d-4d12-b1a1-166f7ad73cba",
   "metadata": {},
   "outputs": [
    {
     "name": "stdout",
     "output_type": "stream",
     "text": [
      "Column 'description_length' has been added successfully.\n",
      "            description  description_length\n",
      "0  No description found                   0\n",
      "1  No description found                   0\n",
      "2  No description found                   0\n",
      "3  No description found                   0\n",
      "4  No description found                   0\n"
     ]
    }
   ],
   "source": [
    "# 7. Add a colunm of description length, counting by characters\n",
    "if 'description' in df.columns:\n",
    "    df['description_length'] = df['description'].apply(\n",
    "        lambda x: 0 if str(x).strip() == 'No description found' else len(str(x))\n",
    "    )\n",
    "    print(\"Column 'description_length' has been added successfully.\")\n",
    "else:\n",
    "    print(\"Column 'description' does not exist in the dataset.\")\n",
    "\n",
    "# Display the first few rows to verify\n",
    "print(df[['description', 'description_length']].head())"
   ]
  },
  {
   "cell_type": "code",
   "execution_count": 49,
   "id": "58c355c5-0549-4b81-bb4a-8efe25b87733",
   "metadata": {},
   "outputs": [
    {
     "name": "stdout",
     "output_type": "stream",
     "text": [
      "Column 'keyword_count' has been added successfully.\n"
     ]
    }
   ],
   "source": [
    "# 8. Add a column 'keyword_count', counting the number of keywords\n",
    "if 'keywords' in df.columns:\n",
    "    df['keyword_count'] = df['keywords'].apply(\n",
    "        lambda x: 0 if str(x).strip() == 'No keywords found' else len(str(x).split(','))\n",
    "    )\n",
    "    print(\"Column 'keyword_count' has been added successfully.\")\n",
    "else:\n",
    "    print(\"Column 'keywords' does not exist in the dataset.\")"
   ]
  },
  {
   "cell_type": "code",
   "execution_count": 51,
   "id": "c85a7386-89e1-40fd-a49a-da0cf9e13192",
   "metadata": {},
   "outputs": [
    {
     "name": "stdout",
     "output_type": "stream",
     "text": [
      "            keywords  keyword_count\n",
      "0  No keywords found              0\n",
      "1  No keywords found              0\n",
      "2  No keywords found              0\n",
      "3  No keywords found              0\n",
      "4  No keywords found              0\n"
     ]
    }
   ],
   "source": [
    "# Display the first few rows to verify\n",
    "print(df[['keywords', 'keyword_count']].head())"
   ]
  },
  {
   "cell_type": "code",
   "execution_count": 53,
   "id": "6e1146b4-b2dc-43d3-a543-5eab13ee1a3d",
   "metadata": {},
   "outputs": [
    {
     "name": "stdout",
     "output_type": "stream",
     "text": [
      "Number of duplicate 'Timestamp' values: 1180\n",
      "             Timestamp\n",
      "14     5/02/2015 22:03\n",
      "15     5/02/2015 22:03\n",
      "16     6/02/2015 23:32\n",
      "17     6/02/2015 23:32\n",
      "87     28/01/2016 7:58\n",
      "...                ...\n",
      "2408   20/11/2024 7:01\n",
      "2409   20/11/2024 7:01\n",
      "2410   20/11/2024 7:01\n",
      "2411  21/11/2024 13:00\n",
      "2412  21/11/2024 13:00\n",
      "\n",
      "[1180 rows x 1 columns]\n"
     ]
    }
   ],
   "source": [
    "# 9. Check for duplicates in 'Timestamp' column, and remove the duplicate rows\n",
    "if 'Timestamp' in df.columns:\n",
    "    duplicate_timestamps = df[df['Timestamp'].duplicated(keep=False)]\n",
    "    \n",
    "    if duplicate_timestamps.empty:\n",
    "        print(\"No duplicate values found in the 'Timestamp' column.\")\n",
    "    else:\n",
    "        print(f\"Number of duplicate 'Timestamp' values: {duplicate_timestamps.shape[0]}\")\n",
    "        print(duplicate_timestamps[['Timestamp']])\n",
    "else:\n",
    "    print(\"Column 'Timestamp' does not exist in the dataset.\")"
   ]
  },
  {
   "cell_type": "code",
   "execution_count": 55,
   "id": "c326cad6-3204-4b28-bb06-2ee7599cb89a",
   "metadata": {},
   "outputs": [
    {
     "name": "stdout",
     "output_type": "stream",
     "text": [
      "Removed 755 duplicate rows based on 'Timestamp'.\n"
     ]
    }
   ],
   "source": [
    "# Remove duplicates based on 'Timestamp'\n",
    "if 'Timestamp' in df.columns:\n",
    "    initial_row_count = df.shape[0]\n",
    "    df = df.drop_duplicates(subset='Timestamp', keep='first')\n",
    "    final_row_count = df.shape[0]\n",
    "    print(f\"Removed {initial_row_count - final_row_count} duplicate rows based on 'Timestamp'.\")\n",
    "else:\n",
    "    print(\"Column 'Timestamp' does not exist in the dataset.\")"
   ]
  },
  {
   "cell_type": "code",
   "execution_count": 57,
   "id": "4de2a164-6b98-4161-bc3f-ecbdfd0a32ca",
   "metadata": {},
   "outputs": [],
   "source": [
    "# 10. Save the cleaned dataset to csv\n",
    "df.to_csv('dataset_business_1227_cleaned.csv', index=False)"
   ]
  },
  {
   "cell_type": "code",
   "execution_count": 59,
   "id": "af1563b9-7697-4e33-860e-c67276a2ea1b",
   "metadata": {},
   "outputs": [],
   "source": [
    "# Display the cleaned dataset information\n",
    "df = pd.read_csv('dataset_business_1227_cleaned.csv')"
   ]
  },
  {
   "cell_type": "code",
   "execution_count": 61,
   "id": "76522c76-f485-475f-a3aa-41bba8a43ec2",
   "metadata": {},
   "outputs": [
    {
     "name": "stdout",
     "output_type": "stream",
     "text": [
      "<class 'pandas.core.frame.DataFrame'>\n",
      "RangeIndex: 1618 entries, 0 to 1617\n",
      "Data columns (total 9 columns):\n",
      " #   Column              Non-Null Count  Dtype \n",
      "---  ------              --------------  ----- \n",
      " 0   title               1618 non-null   object\n",
      " 1   h1_tags             1616 non-null   object\n",
      " 2   word_count          1618 non-null   int64 \n",
      " 3   keywords            1618 non-null   object\n",
      " 4   description         1618 non-null   object\n",
      " 5   snapshot_url        1618 non-null   object\n",
      " 6   Timestamp           1618 non-null   object\n",
      " 7   description_length  1618 non-null   int64 \n",
      " 8   keyword_count       1618 non-null   int64 \n",
      "dtypes: int64(3), object(6)\n",
      "memory usage: 113.9+ KB\n"
     ]
    }
   ],
   "source": [
    "df.info()"
   ]
  },
  {
   "cell_type": "code",
   "execution_count": null,
   "id": "cb15f1e6-d482-49c2-964f-db09fbabec58",
   "metadata": {},
   "outputs": [],
   "source": []
  }
 ],
 "metadata": {
  "kernelspec": {
   "display_name": "Python 3 (ipykernel)",
   "language": "python",
   "name": "python3"
  },
  "language_info": {
   "codemirror_mode": {
    "name": "ipython",
    "version": 3
   },
   "file_extension": ".py",
   "mimetype": "text/x-python",
   "name": "python",
   "nbconvert_exporter": "python",
   "pygments_lexer": "ipython3",
   "version": "3.12.4"
  }
 },
 "nbformat": 4,
 "nbformat_minor": 5
}
