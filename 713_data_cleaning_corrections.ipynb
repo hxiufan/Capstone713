{
 "cells": [
  {
   "cell_type": "code",
   "execution_count": 1,
   "id": "d0c27b6b-fa40-4906-96ef-b3307c0cc613",
   "metadata": {},
   "outputs": [],
   "source": [
    "import pandas as pd"
   ]
  },
  {
   "cell_type": "code",
   "execution_count": 9,
   "id": "04de23e9-a8d4-4cbc-bfa1-09be2af108c1",
   "metadata": {},
   "outputs": [],
   "source": [
    "df = pd.read_csv('dataset_corrections_1227.csv')"
   ]
  },
  {
   "cell_type": "code",
   "execution_count": 11,
   "id": "8841438e-3638-4fd5-a5df-8676eeca20da",
   "metadata": {},
   "outputs": [
    {
     "name": "stdout",
     "output_type": "stream",
     "text": [
      "<class 'pandas.core.frame.DataFrame'>\n",
      "RangeIndex: 926 entries, 0 to 925\n",
      "Data columns (total 8 columns):\n",
      " #   Column          Non-Null Count  Dtype \n",
      "---  ------          --------------  ----- \n",
      " 0   title           926 non-null    object\n",
      " 1   h1_tags         926 non-null    object\n",
      " 2   word_count      926 non-null    int64 \n",
      " 3   keywords        102 non-null    object\n",
      " 4   description     101 non-null    object\n",
      " 5   DC.Description  101 non-null    object\n",
      " 6   snapshot_url    926 non-null    object\n",
      " 7   Timestamp       926 non-null    object\n",
      "dtypes: int64(1), object(7)\n",
      "memory usage: 58.0+ KB\n"
     ]
    }
   ],
   "source": [
    "df.info()"
   ]
  },
  {
   "cell_type": "code",
   "execution_count": 13,
   "id": "f9bb6344-15da-4230-b91c-cd1a1bd862cf",
   "metadata": {},
   "outputs": [
    {
     "data": {
      "text/plain": [
       "(926, 8)"
      ]
     },
     "execution_count": 13,
     "metadata": {},
     "output_type": "execute_result"
    }
   ],
   "source": [
    "df.shape"
   ]
  },
  {
   "cell_type": "code",
   "execution_count": 15,
   "id": "e08cf8c3-d51e-42b0-8817-f4c0821d3e50",
   "metadata": {},
   "outputs": [
    {
     "name": "stdout",
     "output_type": "stream",
     "text": [
      "Missing Values in Each Column:\n",
      "title               0\n",
      "h1_tags             0\n",
      "word_count          0\n",
      "keywords          824\n",
      "description       825\n",
      "DC.Description    825\n",
      "snapshot_url        0\n",
      "Timestamp           0\n",
      "dtype: int64\n"
     ]
    }
   ],
   "source": [
    "# 1. Identify missing values\n",
    "missing_values = df.isnull().sum()\n",
    "print(\"Missing Values in Each Column:\")\n",
    "print(missing_values)"
   ]
  },
  {
   "cell_type": "code",
   "execution_count": 17,
   "id": "8facc185-44e4-4c1d-bd2f-2d9a5591535f",
   "metadata": {},
   "outputs": [
    {
     "name": "stderr",
     "output_type": "stream",
     "text": [
      "C:\\Users\\hxiuf\\AppData\\Local\\Temp\\ipykernel_4152\\1051248425.py:2: FutureWarning: A value is trying to be set on a copy of a DataFrame or Series through chained assignment using an inplace method.\n",
      "The behavior will change in pandas 3.0. This inplace method will never work because the intermediate object on which we are setting values always behaves as a copy.\n",
      "\n",
      "For example, when doing 'df[col].method(value, inplace=True)', try using 'df.method({col: value}, inplace=True)' or df[col] = df[col].method(value) instead, to perform the operation inplace on the original object.\n",
      "\n",
      "\n",
      "  df['keywords'].fillna('No keywords found', inplace=True)\n",
      "C:\\Users\\hxiuf\\AppData\\Local\\Temp\\ipykernel_4152\\1051248425.py:3: FutureWarning: A value is trying to be set on a copy of a DataFrame or Series through chained assignment using an inplace method.\n",
      "The behavior will change in pandas 3.0. This inplace method will never work because the intermediate object on which we are setting values always behaves as a copy.\n",
      "\n",
      "For example, when doing 'df[col].method(value, inplace=True)', try using 'df.method({col: value}, inplace=True)' or df[col] = df[col].method(value) instead, to perform the operation inplace on the original object.\n",
      "\n",
      "\n",
      "  df['description'].fillna('No description found', inplace=True)\n",
      "C:\\Users\\hxiuf\\AppData\\Local\\Temp\\ipykernel_4152\\1051248425.py:4: FutureWarning: A value is trying to be set on a copy of a DataFrame or Series through chained assignment using an inplace method.\n",
      "The behavior will change in pandas 3.0. This inplace method will never work because the intermediate object on which we are setting values always behaves as a copy.\n",
      "\n",
      "For example, when doing 'df[col].method(value, inplace=True)', try using 'df.method({col: value}, inplace=True)' or df[col] = df[col].method(value) instead, to perform the operation inplace on the original object.\n",
      "\n",
      "\n",
      "  df['DC.Description'].fillna('No description found', inplace=True)\n"
     ]
    }
   ],
   "source": [
    "# 2. Replace missing values in specific columns\n",
    "df['keywords'].fillna('No keywords found', inplace=True)\n",
    "df['description'].fillna('No description found', inplace=True)\n",
    "df['DC.Description'].fillna('No description found', inplace=True)"
   ]
  },
  {
   "cell_type": "code",
   "execution_count": 19,
   "id": "ced1dc86-c156-470a-9ec1-30a8bbc2e184",
   "metadata": {},
   "outputs": [
    {
     "name": "stdout",
     "output_type": "stream",
     "text": [
      "\n",
      "Missing Values After Replacement:\n",
      "title             0\n",
      "h1_tags           0\n",
      "word_count        0\n",
      "keywords          0\n",
      "description       0\n",
      "DC.Description    0\n",
      "snapshot_url      0\n",
      "Timestamp         0\n",
      "dtype: int64\n"
     ]
    }
   ],
   "source": [
    "# Verify replacements\n",
    "print(\"\\nMissing Values After Replacement:\")\n",
    "print(df.isnull().sum())"
   ]
  },
  {
   "cell_type": "code",
   "execution_count": 21,
   "id": "09ce275e-89a1-4dfa-b1ea-13cdf3c163ed",
   "metadata": {},
   "outputs": [
    {
     "data": {
      "text/html": [
       "<div>\n",
       "<style scoped>\n",
       "    .dataframe tbody tr th:only-of-type {\n",
       "        vertical-align: middle;\n",
       "    }\n",
       "\n",
       "    .dataframe tbody tr th {\n",
       "        vertical-align: top;\n",
       "    }\n",
       "\n",
       "    .dataframe thead th {\n",
       "        text-align: right;\n",
       "    }\n",
       "</style>\n",
       "<table border=\"1\" class=\"dataframe\">\n",
       "  <thead>\n",
       "    <tr style=\"text-align: right;\">\n",
       "      <th></th>\n",
       "      <th>title</th>\n",
       "      <th>h1_tags</th>\n",
       "      <th>word_count</th>\n",
       "      <th>keywords</th>\n",
       "      <th>description</th>\n",
       "      <th>DC.Description</th>\n",
       "      <th>snapshot_url</th>\n",
       "      <th>Timestamp</th>\n",
       "    </tr>\n",
       "  </thead>\n",
       "  <tbody>\n",
       "    <tr>\n",
       "      <th>0</th>\n",
       "      <td>Corrections Department NZ - Corrections Depart...</td>\n",
       "      <td>[]</td>\n",
       "      <td>1495</td>\n",
       "      <td>No keywords found</td>\n",
       "      <td>No description found</td>\n",
       "      <td>No description found</td>\n",
       "      <td>https://web.archive.org/web/20150103022537/htt...</td>\n",
       "      <td>3/01/2015 2:25</td>\n",
       "    </tr>\n",
       "    <tr>\n",
       "      <th>1</th>\n",
       "      <td>Corrections Department NZ - Corrections Depart...</td>\n",
       "      <td>[]</td>\n",
       "      <td>1495</td>\n",
       "      <td>No keywords found</td>\n",
       "      <td>No description found</td>\n",
       "      <td>No description found</td>\n",
       "      <td>https://web.archive.org/web/20150113020105/htt...</td>\n",
       "      <td>13/01/2015 2:01</td>\n",
       "    </tr>\n",
       "    <tr>\n",
       "      <th>2</th>\n",
       "      <td>Corrections Department NZ - Corrections Depart...</td>\n",
       "      <td>[]</td>\n",
       "      <td>1498</td>\n",
       "      <td>No keywords found</td>\n",
       "      <td>No description found</td>\n",
       "      <td>No description found</td>\n",
       "      <td>https://web.archive.org/web/20150121022536/htt...</td>\n",
       "      <td>21/01/2015 2:25</td>\n",
       "    </tr>\n",
       "    <tr>\n",
       "      <th>3</th>\n",
       "      <td>Corrections Department NZ - Corrections Depart...</td>\n",
       "      <td>[]</td>\n",
       "      <td>1503</td>\n",
       "      <td>No keywords found</td>\n",
       "      <td>No description found</td>\n",
       "      <td>No description found</td>\n",
       "      <td>https://web.archive.org/web/20150202082918/htt...</td>\n",
       "      <td>2/02/2015 8:29</td>\n",
       "    </tr>\n",
       "    <tr>\n",
       "      <th>4</th>\n",
       "      <td>Corrections Department NZ - Corrections Depart...</td>\n",
       "      <td>[]</td>\n",
       "      <td>1507</td>\n",
       "      <td>No keywords found</td>\n",
       "      <td>No description found</td>\n",
       "      <td>No description found</td>\n",
       "      <td>https://web.archive.org/web/20150206050235/htt...</td>\n",
       "      <td>6/02/2015 5:02</td>\n",
       "    </tr>\n",
       "  </tbody>\n",
       "</table>\n",
       "</div>"
      ],
      "text/plain": [
       "                                               title h1_tags  word_count  \\\n",
       "0  Corrections Department NZ - Corrections Depart...      []        1495   \n",
       "1  Corrections Department NZ - Corrections Depart...      []        1495   \n",
       "2  Corrections Department NZ - Corrections Depart...      []        1498   \n",
       "3  Corrections Department NZ - Corrections Depart...      []        1503   \n",
       "4  Corrections Department NZ - Corrections Depart...      []        1507   \n",
       "\n",
       "            keywords           description        DC.Description  \\\n",
       "0  No keywords found  No description found  No description found   \n",
       "1  No keywords found  No description found  No description found   \n",
       "2  No keywords found  No description found  No description found   \n",
       "3  No keywords found  No description found  No description found   \n",
       "4  No keywords found  No description found  No description found   \n",
       "\n",
       "                                        snapshot_url        Timestamp  \n",
       "0  https://web.archive.org/web/20150103022537/htt...   3/01/2015 2:25  \n",
       "1  https://web.archive.org/web/20150113020105/htt...  13/01/2015 2:01  \n",
       "2  https://web.archive.org/web/20150121022536/htt...  21/01/2015 2:25  \n",
       "3  https://web.archive.org/web/20150202082918/htt...   2/02/2015 8:29  \n",
       "4  https://web.archive.org/web/20150206050235/htt...   6/02/2015 5:02  "
      ]
     },
     "execution_count": 21,
     "metadata": {},
     "output_type": "execute_result"
    }
   ],
   "source": [
    "df.head()"
   ]
  },
  {
   "cell_type": "code",
   "execution_count": 23,
   "id": "2b65a9f1-0b80-4d8b-81d7-0a3cdf4568cf",
   "metadata": {},
   "outputs": [],
   "source": [
    "# 3. Remove rows containing 'Error'\n",
    "df = df[~df.eq('Error').any(axis=1)]"
   ]
  },
  {
   "cell_type": "code",
   "execution_count": 25,
   "id": "ee477992-3f34-4969-9693-59e1b95700df",
   "metadata": {},
   "outputs": [
    {
     "name": "stdout",
     "output_type": "stream",
     "text": [
      "\n",
      "Rows after removing 'Error':\n",
      "                                               title h1_tags  word_count  \\\n",
      "0  Corrections Department NZ - Corrections Depart...      []        1495   \n",
      "1  Corrections Department NZ - Corrections Depart...      []        1495   \n",
      "2  Corrections Department NZ - Corrections Depart...      []        1498   \n",
      "3  Corrections Department NZ - Corrections Depart...      []        1503   \n",
      "4  Corrections Department NZ - Corrections Depart...      []        1507   \n",
      "\n",
      "            keywords           description        DC.Description  \\\n",
      "0  No keywords found  No description found  No description found   \n",
      "1  No keywords found  No description found  No description found   \n",
      "2  No keywords found  No description found  No description found   \n",
      "3  No keywords found  No description found  No description found   \n",
      "4  No keywords found  No description found  No description found   \n",
      "\n",
      "                                        snapshot_url        Timestamp  \n",
      "0  https://web.archive.org/web/20150103022537/htt...   3/01/2015 2:25  \n",
      "1  https://web.archive.org/web/20150113020105/htt...  13/01/2015 2:01  \n",
      "2  https://web.archive.org/web/20150121022536/htt...  21/01/2015 2:25  \n",
      "3  https://web.archive.org/web/20150202082918/htt...   2/02/2015 8:29  \n",
      "4  https://web.archive.org/web/20150206050235/htt...   6/02/2015 5:02  \n"
     ]
    }
   ],
   "source": [
    "# Verify removal\n",
    "print(\"\\nRows after removing 'Error':\")\n",
    "print(df.head())"
   ]
  },
  {
   "cell_type": "code",
   "execution_count": 29,
   "id": "df0371aa-d90d-4fe2-8d1b-5d43f6216ac2",
   "metadata": {},
   "outputs": [
    {
     "name": "stdout",
     "output_type": "stream",
     "text": [
      "Number of Matching Rows: 923\n",
      "Number of Non-Matching Rows: 0\n"
     ]
    }
   ],
   "source": [
    "# 4. Check if \"description\" and \"DC.Description\" match\n",
    "df['description_DC_match'] = df['description'] == df['DC.Description']\n",
    "\n",
    "# Display matching and non-matching rows\n",
    "matching_rows = df[df['description_DC_match'] == True]\n",
    "non_matching_rows = df[df['description_DC_match'] == False]\n",
    "\n",
    "print(\"Number of Matching Rows:\", len(matching_rows))\n",
    "print(\"Number of Non-Matching Rows:\", len(non_matching_rows))\n"
   ]
  },
  {
   "cell_type": "code",
   "execution_count": 31,
   "id": "14c50fdc-d819-41be-b975-9bf1135db897",
   "metadata": {},
   "outputs": [],
   "source": [
    "# 5. Drop the \"DC.Description' column, as it is the same as 'description'\n",
    "df.drop(columns=['DC.Description'], inplace=True)"
   ]
  },
  {
   "cell_type": "code",
   "execution_count": 33,
   "id": "04c3d563-0591-48f3-bad3-30ce0cab6c08",
   "metadata": {},
   "outputs": [
    {
     "name": "stdout",
     "output_type": "stream",
     "text": [
      "<class 'pandas.core.frame.DataFrame'>\n",
      "Index: 923 entries, 0 to 925\n",
      "Data columns (total 8 columns):\n",
      " #   Column                Non-Null Count  Dtype \n",
      "---  ------                --------------  ----- \n",
      " 0   title                 923 non-null    object\n",
      " 1   h1_tags               923 non-null    object\n",
      " 2   word_count            923 non-null    int64 \n",
      " 3   keywords              923 non-null    object\n",
      " 4   description           923 non-null    object\n",
      " 5   snapshot_url          923 non-null    object\n",
      " 6   Timestamp             923 non-null    object\n",
      " 7   description_DC_match  923 non-null    bool  \n",
      "dtypes: bool(1), int64(1), object(6)\n",
      "memory usage: 58.6+ KB\n"
     ]
    }
   ],
   "source": [
    "df.info()"
   ]
  },
  {
   "cell_type": "code",
   "execution_count": 35,
   "id": "0dd5f08c-1793-4f17-a398-656cff6b9711",
   "metadata": {},
   "outputs": [],
   "source": [
    "df.drop(columns=['description_DC_match'], inplace=True)"
   ]
  },
  {
   "cell_type": "code",
   "execution_count": 37,
   "id": "56612f20-1df7-4980-976d-ade14f594ede",
   "metadata": {},
   "outputs": [
    {
     "name": "stdout",
     "output_type": "stream",
     "text": [
      "<class 'pandas.core.frame.DataFrame'>\n",
      "Index: 923 entries, 0 to 925\n",
      "Data columns (total 7 columns):\n",
      " #   Column        Non-Null Count  Dtype \n",
      "---  ------        --------------  ----- \n",
      " 0   title         923 non-null    object\n",
      " 1   h1_tags       923 non-null    object\n",
      " 2   word_count    923 non-null    int64 \n",
      " 3   keywords      923 non-null    object\n",
      " 4   description   923 non-null    object\n",
      " 5   snapshot_url  923 non-null    object\n",
      " 6   Timestamp     923 non-null    object\n",
      "dtypes: int64(1), object(6)\n",
      "memory usage: 57.7+ KB\n"
     ]
    }
   ],
   "source": [
    "df.info()"
   ]
  },
  {
   "cell_type": "code",
   "execution_count": 41,
   "id": "2e95c20d-0e3a-458a-b64f-c7a0886e862b",
   "metadata": {},
   "outputs": [
    {
     "name": "stdout",
     "output_type": "stream",
     "text": [
      "Empty lists in 'h1_tags' have been replaced with 'null'.\n"
     ]
    }
   ],
   "source": [
    "# 6. Replace the \"h1_tag\"= \"[]\" with \"null\"\n",
    "\n",
    "if 'h1_tags' in df.columns:\n",
    "    df['h1_tags'] = df['h1_tags'].apply(lambda x: 'null' if str(x).strip() == '[]' else x)\n",
    "    print(\"Empty lists in 'h1_tags' have been replaced with 'null'.\")\n",
    "else:\n",
    "    print(\"Column 'h1_tags' does not exist in the dataset.\")"
   ]
  },
  {
   "cell_type": "code",
   "execution_count": 43,
   "id": "80876a92-f35a-4454-b223-7f586b73e3cf",
   "metadata": {},
   "outputs": [
    {
     "data": {
      "text/plain": [
       "0      null\n",
       "1      null\n",
       "2      null\n",
       "3      null\n",
       "4      null\n",
       "       ... \n",
       "921    null\n",
       "922    null\n",
       "923    null\n",
       "924    null\n",
       "925    null\n",
       "Name: h1_tags, Length: 923, dtype: object"
      ]
     },
     "execution_count": 43,
     "metadata": {},
     "output_type": "execute_result"
    }
   ],
   "source": [
    "df['h1_tags']"
   ]
  },
  {
   "cell_type": "code",
   "execution_count": 45,
   "id": "c20225ec-130d-4d12-b1a1-166f7ad73cba",
   "metadata": {},
   "outputs": [
    {
     "name": "stdout",
     "output_type": "stream",
     "text": [
      "Column 'description_length' has been added successfully.\n",
      "            description  description_length\n",
      "0  No description found                   0\n",
      "1  No description found                   0\n",
      "2  No description found                   0\n",
      "3  No description found                   0\n",
      "4  No description found                   0\n"
     ]
    }
   ],
   "source": [
    "# 7. Add a colunm of description length, counting by characters\n",
    "if 'description' in df.columns:\n",
    "    df['description_length'] = df['description'].apply(\n",
    "        lambda x: 0 if str(x).strip() == 'No description found' else len(str(x))\n",
    "    )\n",
    "    print(\"Column 'description_length' has been added successfully.\")\n",
    "else:\n",
    "    print(\"Column 'description' does not exist in the dataset.\")\n",
    "\n",
    "# Display the first few rows to verify\n",
    "print(df[['description', 'description_length']].head())"
   ]
  },
  {
   "cell_type": "code",
   "execution_count": 49,
   "id": "58c355c5-0549-4b81-bb4a-8efe25b87733",
   "metadata": {},
   "outputs": [
    {
     "name": "stdout",
     "output_type": "stream",
     "text": [
      "Column 'keyword_count' has been added successfully.\n"
     ]
    }
   ],
   "source": [
    "# 8. Add a column 'keyword_count', counting the number of keywords\n",
    "if 'keywords' in df.columns:\n",
    "    df['keyword_count'] = df['keywords'].apply(\n",
    "        lambda x: 0 if str(x).strip() == 'No keywords found' else len(str(x).split(','))\n",
    "    )\n",
    "    print(\"Column 'keyword_count' has been added successfully.\")\n",
    "else:\n",
    "    print(\"Column 'keywords' does not exist in the dataset.\")"
   ]
  },
  {
   "cell_type": "code",
   "execution_count": 55,
   "id": "c85a7386-89e1-40fd-a49a-da0cf9e13192",
   "metadata": {},
   "outputs": [
    {
     "name": "stdout",
     "output_type": "stream",
     "text": [
      "            keywords  keyword_count\n",
      "0  No keywords found              0\n",
      "1  No keywords found              0\n",
      "2  No keywords found              0\n",
      "3  No keywords found              0\n",
      "4  No keywords found              0\n"
     ]
    }
   ],
   "source": [
    "# Display the first few rows to verify\n",
    "print(df[['keywords', 'keyword_count']].head())"
   ]
  },
  {
   "cell_type": "code",
   "execution_count": 57,
   "id": "6e1146b4-b2dc-43d3-a543-5eab13ee1a3d",
   "metadata": {},
   "outputs": [
    {
     "name": "stdout",
     "output_type": "stream",
     "text": [
      "Number of duplicate 'Timestamp' values: 461\n",
      "            Timestamp\n",
      "120   15/01/2019 1:50\n",
      "121   15/01/2019 1:50\n",
      "122   15/01/2019 2:08\n",
      "123   15/01/2019 2:08\n",
      "124   16/01/2019 0:03\n",
      "..                ...\n",
      "850   5/05/2024 16:22\n",
      "851   5/05/2024 16:22\n",
      "886  23/09/2024 21:55\n",
      "887  23/09/2024 21:55\n",
      "888  23/09/2024 21:55\n",
      "\n",
      "[461 rows x 1 columns]\n"
     ]
    }
   ],
   "source": [
    "# 9. Check for duplicates in 'Timestamp' column, and remove the duplicate rows\n",
    "if 'Timestamp' in df.columns:\n",
    "    duplicate_timestamps = df[df['Timestamp'].duplicated(keep=False)]\n",
    "    \n",
    "    if duplicate_timestamps.empty:\n",
    "        print(\"No duplicate values found in the 'Timestamp' column.\")\n",
    "    else:\n",
    "        print(f\"Number of duplicate 'Timestamp' values: {duplicate_timestamps.shape[0]}\")\n",
    "        print(duplicate_timestamps[['Timestamp']])\n",
    "else:\n",
    "    print(\"Column 'Timestamp' does not exist in the dataset.\")"
   ]
  },
  {
   "cell_type": "code",
   "execution_count": 59,
   "id": "c326cad6-3204-4b28-bb06-2ee7599cb89a",
   "metadata": {},
   "outputs": [
    {
     "name": "stdout",
     "output_type": "stream",
     "text": [
      "Removed 244 duplicate rows based on 'Timestamp'.\n"
     ]
    }
   ],
   "source": [
    "# Remove duplicates based on 'Timestamp'\n",
    "if 'Timestamp' in df.columns:\n",
    "    initial_row_count = df.shape[0]\n",
    "    df = df.drop_duplicates(subset='Timestamp', keep='first')\n",
    "    final_row_count = df.shape[0]\n",
    "    print(f\"Removed {initial_row_count - final_row_count} duplicate rows based on 'Timestamp'.\")\n",
    "else:\n",
    "    print(\"Column 'Timestamp' does not exist in the dataset.\")"
   ]
  },
  {
   "cell_type": "code",
   "execution_count": 61,
   "id": "4de2a164-6b98-4161-bc3f-ecbdfd0a32ca",
   "metadata": {},
   "outputs": [],
   "source": [
    "# 10. Save the cleaned dataset to csv\n",
    "df.to_csv('dataset_corrections_1227_cleaned.csv', index=False)"
   ]
  },
  {
   "cell_type": "code",
   "execution_count": null,
   "id": "af1563b9-7697-4e33-860e-c67276a2ea1b",
   "metadata": {},
   "outputs": [],
   "source": []
  }
 ],
 "metadata": {
  "kernelspec": {
   "display_name": "Python 3 (ipykernel)",
   "language": "python",
   "name": "python3"
  },
  "language_info": {
   "codemirror_mode": {
    "name": "ipython",
    "version": 3
   },
   "file_extension": ".py",
   "mimetype": "text/x-python",
   "name": "python",
   "nbconvert_exporter": "python",
   "pygments_lexer": "ipython3",
   "version": "3.12.4"
  }
 },
 "nbformat": 4,
 "nbformat_minor": 5
}
