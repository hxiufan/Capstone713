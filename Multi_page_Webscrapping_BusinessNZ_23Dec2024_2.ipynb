{
  "cells": [
    {
      "cell_type": "markdown",
      "metadata": {
        "id": "view-in-github",
        "colab_type": "text"
      },
      "source": [
        "<a href=\"https://colab.research.google.com/github/hxiufan/Capstone713/blob/main/Multi_page_Webscrapping_BusinessNZ_23Dec2024_2.ipynb\" target=\"_parent\"><img src=\"https://colab.research.google.com/assets/colab-badge.svg\" alt=\"Open In Colab\"/></a>"
      ]
    },
    {
      "cell_type": "code",
      "source": [
        "import os"
      ],
      "metadata": {
        "id": "20NdIP0_quxF"
      },
      "id": "20NdIP0_quxF",
      "execution_count": 3,
      "outputs": []
    },
    {
      "cell_type": "code",
      "source": [
        "from google.colab import drive"
      ],
      "metadata": {
        "id": "JDubz_VFqx75"
      },
      "id": "JDubz_VFqx75",
      "execution_count": 4,
      "outputs": []
    },
    {
      "cell_type": "code",
      "source": [
        "from google.colab import drive\n",
        "drive.mount('/content/drive')"
      ],
      "metadata": {
        "id": "WU_1RZWYq2_0",
        "colab": {
          "base_uri": "https://localhost:8080/"
        },
        "outputId": "186ac685-512d-46f8-d968-a063af2208d8"
      },
      "id": "WU_1RZWYq2_0",
      "execution_count": 8,
      "outputs": [
        {
          "output_type": "stream",
          "name": "stdout",
          "text": [
            "Mounted at /content/drive\n"
          ]
        }
      ]
    },
    {
      "cell_type": "code",
      "execution_count": 9,
      "id": "836dfde7-b2e4-4b06-a638-da101c8e7402",
      "metadata": {
        "id": "836dfde7-b2e4-4b06-a638-da101c8e7402",
        "outputId": "1e4ee272-bd18-488e-bc84-1928a594e8d8",
        "colab": {
          "base_uri": "https://localhost:8080/"
        }
      },
      "outputs": [
        {
          "output_type": "stream",
          "name": "stdout",
          "text": [
            "Found 2413 snapshots.\n"
          ]
        },
        {
          "output_type": "stream",
          "name": "stderr",
          "text": [
            "Scraping snapshots:   6%|▌         | 134/2413 [07:06<2:00:45,  3.18s/it]"
          ]
        },
        {
          "output_type": "stream",
          "name": "stdout",
          "text": [
            "Network error while scraping https://web.archive.org/web/20160824092744/http://www.business.govt.nz:80/?: 403 Client Error: Forbidden for url: https://web.archive.org/web/20160824092744/http://www.business.govt.nz:80/\n"
          ]
        },
        {
          "output_type": "stream",
          "name": "stderr",
          "text": [
            "\rScraping snapshots:   6%|▌         | 135/2413 [07:09<1:55:49,  3.05s/it]"
          ]
        },
        {
          "output_type": "stream",
          "name": "stdout",
          "text": [
            "Network error while scraping https://web.archive.org/web/20160826000049/https://www.business.govt.nz/: 403 Client Error: Forbidden for url: https://web.archive.org/web/20160824092744/http://www.business.govt.nz/\n"
          ]
        },
        {
          "output_type": "stream",
          "name": "stderr",
          "text": [
            "Scraping snapshots:  32%|███▏      | 764/2413 [38:40<1:12:48,  2.65s/it]"
          ]
        },
        {
          "output_type": "stream",
          "name": "stdout",
          "text": [
            "Network error while scraping https://web.archive.org/web/20211018040331/https://www.business.govt.nz/: 403 Client Error: Forbidden for url: https://web.archive.org/web/20211018040331/https://www.business.govt.nz/\n"
          ]
        },
        {
          "output_type": "stream",
          "name": "stderr",
          "text": [
            "\rScraping snapshots:  32%|███▏      | 765/2413 [38:43<1:09:46,  2.54s/it]"
          ]
        },
        {
          "output_type": "stream",
          "name": "stdout",
          "text": [
            "Network error while scraping https://web.archive.org/web/20211023020754/http://www.business.govt.nz/: 403 Client Error: Forbidden for url: https://web.archive.org/web/20211018040331/https://www.business.govt.nz/\n"
          ]
        },
        {
          "output_type": "stream",
          "name": "stderr",
          "text": [
            "Scraping snapshots:  32%|███▏      | 768/2413 [38:51<1:12:15,  2.64s/it]"
          ]
        },
        {
          "output_type": "stream",
          "name": "stdout",
          "text": [
            "Network error while scraping https://web.archive.org/web/20211105111442/https://www.business.govt.nz/: 403 Client Error: Forbidden for url: https://web.archive.org/web/20211105111442/https://www.business.govt.nz/\n"
          ]
        },
        {
          "output_type": "stream",
          "name": "stderr",
          "text": [
            "Scraping snapshots:  58%|█████▊    | 1410/2413 [1:11:00<43:28,  2.60s/it]"
          ]
        },
        {
          "output_type": "stream",
          "name": "stdout",
          "text": [
            "Network error while scraping https://web.archive.org/web/20220329093935/http://www.business.govt.nz/: 403 Client Error: Forbidden for url: https://web.archive.org/web/20220329093936/https://www.business.govt.nz/\n"
          ]
        },
        {
          "output_type": "stream",
          "name": "stderr",
          "text": [
            "\rScraping snapshots:  58%|█████▊    | 1411/2413 [1:11:05<52:31,  3.15s/it]"
          ]
        },
        {
          "output_type": "stream",
          "name": "stdout",
          "text": [
            "Network error while scraping https://web.archive.org/web/20220329093936/https://www.business.govt.nz/: 403 Client Error: Forbidden for url: https://web.archive.org/web/20220329093936/https://www.business.govt.nz/\n"
          ]
        },
        {
          "output_type": "stream",
          "name": "stderr",
          "text": [
            "Scraping snapshots:  61%|██████    | 1473/2413 [1:14:19<51:45,  3.30s/it]"
          ]
        },
        {
          "output_type": "stream",
          "name": "stdout",
          "text": [
            "Network error while scraping https://web.archive.org/web/20220508154633/https://www.business.govt.nz/: 403 Client Error: Forbidden for url: https://web.archive.org/web/20220508154633/https://www.business.govt.nz/\n"
          ]
        },
        {
          "output_type": "stream",
          "name": "stderr",
          "text": [
            "\rScraping snapshots:  61%|██████    | 1474/2413 [1:14:22<48:28,  3.10s/it]"
          ]
        },
        {
          "output_type": "stream",
          "name": "stdout",
          "text": [
            "Network error while scraping https://web.archive.org/web/20220509021258/http://www.business.govt.nz/: 403 Client Error: Forbidden for url: https://web.archive.org/web/20220508154633/https://www.business.govt.nz/\n"
          ]
        },
        {
          "output_type": "stream",
          "name": "stderr",
          "text": [
            "Scraping snapshots:  63%|██████▎   | 1512/2413 [1:16:37<48:25,  3.22s/it]"
          ]
        },
        {
          "output_type": "stream",
          "name": "stdout",
          "text": [
            "Network error while scraping https://web.archive.org/web/20220626031810/https://business.govt.nz/: 403 Client Error: Forbidden for url: https://web.archive.org/web/20220626031810/https://business.govt.nz/\n"
          ]
        },
        {
          "output_type": "stream",
          "name": "stderr",
          "text": [
            "\rScraping snapshots:  63%|██████▎   | 1513/2413 [1:16:39<45:22,  3.02s/it]"
          ]
        },
        {
          "output_type": "stream",
          "name": "stdout",
          "text": [
            "Network error while scraping https://web.archive.org/web/20220627022228/http://www.business.govt.nz/: 403 Client Error: Forbidden for url: https://web.archive.org/web/20220626031810/https://business.govt.nz/\n"
          ]
        },
        {
          "output_type": "stream",
          "name": "stderr",
          "text": [
            "Scraping snapshots:  63%|██████▎   | 1531/2413 [1:17:37<43:41,  2.97s/it]"
          ]
        },
        {
          "output_type": "stream",
          "name": "stdout",
          "text": [
            "Network error while scraping https://web.archive.org/web/20220709003737/http://www.business.govt.nz/: 403 Client Error: Forbidden for url: https://web.archive.org/web/20220709003737/http://www.business.govt.nz/\n"
          ]
        },
        {
          "output_type": "stream",
          "name": "stderr",
          "text": [
            "\rScraping snapshots:  63%|██████▎   | 1532/2413 [1:17:39<38:33,  2.63s/it]"
          ]
        },
        {
          "output_type": "stream",
          "name": "stdout",
          "text": [
            "Network error while scraping https://web.archive.org/web/20220709020918/http://www.business.govt.nz/: 403 Client Error: Forbidden for url: https://web.archive.org/web/20220709003737/http://www.business.govt.nz/\n"
          ]
        },
        {
          "output_type": "stream",
          "name": "stderr",
          "text": [
            "Scraping snapshots:  64%|██████▎   | 1535/2413 [1:17:49<44:21,  3.03s/it]"
          ]
        },
        {
          "output_type": "stream",
          "name": "stdout",
          "text": [
            "Network error while scraping https://web.archive.org/web/20220710193756/https://business.govt.nz/: 403 Client Error: Forbidden for url: https://web.archive.org/web/20220710193802/https://www.business.govt.nz/\n"
          ]
        },
        {
          "output_type": "stream",
          "name": "stderr",
          "text": [
            "\rScraping snapshots:  64%|██████▎   | 1536/2413 [1:17:52<44:17,  3.03s/it]"
          ]
        },
        {
          "output_type": "stream",
          "name": "stdout",
          "text": [
            "Network error while scraping https://web.archive.org/web/20220710193802/https://www.business.govt.nz/: 403 Client Error: Forbidden for url: https://web.archive.org/web/20220710193802/https://www.business.govt.nz/\n"
          ]
        },
        {
          "output_type": "stream",
          "name": "stderr",
          "text": [
            "\rScraping snapshots:  64%|██████▎   | 1537/2413 [1:17:54<40:24,  2.77s/it]"
          ]
        },
        {
          "output_type": "stream",
          "name": "stdout",
          "text": [
            "Network error while scraping https://web.archive.org/web/20220711022210/http://www.business.govt.nz/: 403 Client Error: Forbidden for url: https://web.archive.org/web/20220710193802/https://www.business.govt.nz/\n"
          ]
        },
        {
          "output_type": "stream",
          "name": "stderr",
          "text": [
            "Scraping snapshots:  65%|██████▍   | 1566/2413 [1:19:15<36:25,  2.58s/it]"
          ]
        },
        {
          "output_type": "stream",
          "name": "stdout",
          "text": [
            "Network error while scraping https://web.archive.org/web/20220823111423/https://www.business.govt.nz/: 403 Client Error: Forbidden for url: https://web.archive.org/web/20220823111423/https://www.business.govt.nz/\n"
          ]
        },
        {
          "output_type": "stream",
          "name": "stderr",
          "text": [
            "\rScraping snapshots:  65%|██████▍   | 1567/2413 [1:19:17<36:22,  2.58s/it]"
          ]
        },
        {
          "output_type": "stream",
          "name": "stdout",
          "text": [
            "Network error while scraping https://web.archive.org/web/20220823141317/http://www.business.govt.nz/: 403 Client Error: Forbidden for url: https://web.archive.org/web/20220823111423/https://www.business.govt.nz/\n"
          ]
        },
        {
          "output_type": "stream",
          "name": "stderr",
          "text": [
            "Scraping snapshots:  80%|████████  | 1938/2413 [1:38:40<20:17,  2.56s/it]"
          ]
        },
        {
          "output_type": "stream",
          "name": "stdout",
          "text": [
            "Network error while scraping https://web.archive.org/web/20230306220700/http://www.business.govt.nz/: 403 Client Error: Forbidden for url: https://web.archive.org/web/20230306220700/http://www.business.govt.nz/\n"
          ]
        },
        {
          "output_type": "stream",
          "name": "stderr",
          "text": [
            "\rScraping snapshots:  80%|████████  | 1939/2413 [1:38:43<20:50,  2.64s/it]"
          ]
        },
        {
          "output_type": "stream",
          "name": "stdout",
          "text": [
            "Network error while scraping https://web.archive.org/web/20230306220700/https://www.business.govt.nz/: 403 Client Error: Forbidden for url: https://web.archive.org/web/20230306220700/https://www.business.govt.nz/\n"
          ]
        },
        {
          "output_type": "stream",
          "name": "stderr",
          "text": [
            "\rScraping snapshots:  80%|████████  | 1940/2413 [1:38:45<20:10,  2.56s/it]"
          ]
        },
        {
          "output_type": "stream",
          "name": "stdout",
          "text": [
            "Network error while scraping https://web.archive.org/web/20230306230842/http://business.govt.nz/: 403 Client Error: Forbidden for url: https://web.archive.org/web/20230306220700/https://www.business.govt.nz/\n"
          ]
        },
        {
          "output_type": "stream",
          "name": "stderr",
          "text": [
            "Scraping snapshots:  81%|████████  | 1943/2413 [1:38:56<22:59,  2.94s/it]"
          ]
        },
        {
          "output_type": "stream",
          "name": "stdout",
          "text": [
            "Network error while scraping https://web.archive.org/web/20230307181403/https://business.govt.nz/: 403 Client Error: Forbidden for url: https://web.archive.org/web/20230307181405/https://www.business.govt.nz/\n"
          ]
        },
        {
          "output_type": "stream",
          "name": "stderr",
          "text": [
            "\rScraping snapshots:  81%|████████  | 1944/2413 [1:38:59<24:05,  3.08s/it]"
          ]
        },
        {
          "output_type": "stream",
          "name": "stdout",
          "text": [
            "Network error while scraping https://web.archive.org/web/20230307181405/https://www.business.govt.nz/: 403 Client Error: Forbidden for url: https://web.archive.org/web/20230307181405/https://www.business.govt.nz/\n"
          ]
        },
        {
          "output_type": "stream",
          "name": "stderr",
          "text": [
            "Scraping snapshots:  82%|████████▏ | 1986/2413 [1:41:27<25:39,  3.61s/it]"
          ]
        },
        {
          "output_type": "stream",
          "name": "stdout",
          "text": [
            "Network error while scraping https://web.archive.org/web/20230316121743/https://www.business.govt.nz/: 403 Client Error: Forbidden for url: https://web.archive.org/web/20230316121743/https://www.business.govt.nz/\n"
          ]
        },
        {
          "output_type": "stream",
          "name": "stderr",
          "text": [
            "Scraping snapshots:  84%|████████▍ | 2027/2413 [1:43:32<19:00,  2.95s/it]"
          ]
        },
        {
          "output_type": "stream",
          "name": "stdout",
          "text": [
            "Network error while scraping https://web.archive.org/web/20230326160621/http://business.govt.nz/: 403 Client Error: Forbidden for url: https://web.archive.org/web/20230326160636/http://www.business.govt.nz/\n"
          ]
        },
        {
          "output_type": "stream",
          "name": "stderr",
          "text": [
            "\rScraping snapshots:  84%|████████▍ | 2028/2413 [1:43:35<19:23,  3.02s/it]"
          ]
        },
        {
          "output_type": "stream",
          "name": "stdout",
          "text": [
            "Network error while scraping https://web.archive.org/web/20230326160636/http://www.business.govt.nz/: 403 Client Error: Forbidden for url: https://web.archive.org/web/20230326160636/http://www.business.govt.nz/\n"
          ]
        },
        {
          "output_type": "stream",
          "name": "stderr",
          "text": [
            "Scraping snapshots:  86%|████████▌ | 2065/2413 [1:45:52<18:44,  3.23s/it]"
          ]
        },
        {
          "output_type": "stream",
          "name": "stdout",
          "text": [
            "Network error while scraping https://web.archive.org/web/20230403230337/http://business.govt.nz/: 403 Client Error: Forbidden for url: https://web.archive.org/web/20230403230337/http://business.govt.nz/\n"
          ]
        },
        {
          "output_type": "stream",
          "name": "stderr",
          "text": [
            "\rScraping snapshots:  86%|████████▌ | 2066/2413 [1:45:55<18:28,  3.19s/it]"
          ]
        },
        {
          "output_type": "stream",
          "name": "stdout",
          "text": [
            "Network error while scraping https://web.archive.org/web/20230403230337/http://www.business.govt.nz/: 403 Client Error: Forbidden for url: https://web.archive.org/web/20230403230337/http://www.business.govt.nz/\n"
          ]
        },
        {
          "output_type": "stream",
          "name": "stderr",
          "text": [
            "Scraping snapshots:  87%|████████▋ | 2093/2413 [1:47:21<18:22,  3.44s/it]"
          ]
        },
        {
          "output_type": "stream",
          "name": "stdout",
          "text": [
            "Network error while scraping https://web.archive.org/web/20230414112004/https://www.business.govt.nz/: 429 Client Error: Too Many Requests for url: https://web.archive.org/web/20230414112004/https://www.business.govt.nz/\n"
          ]
        },
        {
          "output_type": "stream",
          "name": "stderr",
          "text": [
            "\rScraping snapshots:  87%|████████▋ | 2094/2413 [1:47:22<14:32,  2.73s/it]"
          ]
        },
        {
          "output_type": "stream",
          "name": "stdout",
          "text": [
            "Network error while scraping https://web.archive.org/web/20230415095735/https://www.business.govt.nz/: 429 Client Error: Too Many Requests for url: https://web.archive.org/web/20230415095735/https://www.business.govt.nz/\n"
          ]
        },
        {
          "output_type": "stream",
          "name": "stderr",
          "text": [
            "\rScraping snapshots:  87%|████████▋ | 2095/2413 [1:47:23<11:51,  2.24s/it]"
          ]
        },
        {
          "output_type": "stream",
          "name": "stdout",
          "text": [
            "Network error while scraping https://web.archive.org/web/20230415215700/https://www.business.govt.nz/: 429 Client Error: Too Many Requests for url: https://web.archive.org/web/20230415215700/https://www.business.govt.nz/\n"
          ]
        },
        {
          "output_type": "stream",
          "name": "stderr",
          "text": [
            "\rScraping snapshots:  87%|████████▋ | 2096/2413 [1:47:24<09:59,  1.89s/it]"
          ]
        },
        {
          "output_type": "stream",
          "name": "stdout",
          "text": [
            "Network error while scraping https://web.archive.org/web/20230416100152/https://www.business.govt.nz/: 429 Client Error: Too Many Requests for url: https://web.archive.org/web/20230416100152/https://www.business.govt.nz/\n"
          ]
        },
        {
          "output_type": "stream",
          "name": "stderr",
          "text": [
            "\rScraping snapshots:  87%|████████▋ | 2097/2413 [1:47:25<08:40,  1.65s/it]"
          ]
        },
        {
          "output_type": "stream",
          "name": "stdout",
          "text": [
            "Network error while scraping https://web.archive.org/web/20230417090709/https://www.business.govt.nz/: 429 Client Error: Too Many Requests for url: https://web.archive.org/web/20230417090709/https://www.business.govt.nz/\n"
          ]
        },
        {
          "output_type": "stream",
          "name": "stderr",
          "text": [
            "\rScraping snapshots:  87%|████████▋ | 2098/2413 [1:47:26<07:44,  1.48s/it]"
          ]
        },
        {
          "output_type": "stream",
          "name": "stdout",
          "text": [
            "Network error while scraping https://web.archive.org/web/20230417095901/https://www.business.govt.nz/: 429 Client Error: Too Many Requests for url: https://web.archive.org/web/20230417095901/https://www.business.govt.nz/\n"
          ]
        },
        {
          "output_type": "stream",
          "name": "stderr",
          "text": [
            "\rScraping snapshots:  87%|████████▋ | 2099/2413 [1:47:27<07:05,  1.36s/it]"
          ]
        },
        {
          "output_type": "stream",
          "name": "stdout",
          "text": [
            "Network error while scraping https://web.archive.org/web/20230417215642/https://www.business.govt.nz/: 429 Client Error: Too Many Requests for url: https://web.archive.org/web/20230417215642/https://www.business.govt.nz/\n"
          ]
        },
        {
          "output_type": "stream",
          "name": "stderr",
          "text": [
            "\rScraping snapshots:  87%|████████▋ | 2100/2413 [1:47:29<06:38,  1.27s/it]"
          ]
        },
        {
          "output_type": "stream",
          "name": "stdout",
          "text": [
            "Network error while scraping https://web.archive.org/web/20230418103813/https://www.business.govt.nz/: 429 Client Error: Too Many Requests for url: https://web.archive.org/web/20230418103813/https://www.business.govt.nz/\n"
          ]
        },
        {
          "output_type": "stream",
          "name": "stderr",
          "text": [
            "\rScraping snapshots:  87%|████████▋ | 2101/2413 [1:47:30<06:18,  1.21s/it]"
          ]
        },
        {
          "output_type": "stream",
          "name": "stdout",
          "text": [
            "Network error while scraping https://web.archive.org/web/20230418220330/https://www.business.govt.nz/: 429 Client Error: Too Many Requests for url: https://web.archive.org/web/20230418220330/https://www.business.govt.nz/\n"
          ]
        },
        {
          "output_type": "stream",
          "name": "stderr",
          "text": [
            "\rScraping snapshots:  87%|████████▋ | 2102/2413 [1:47:31<06:05,  1.18s/it]"
          ]
        },
        {
          "output_type": "stream",
          "name": "stdout",
          "text": [
            "Network error while scraping https://web.archive.org/web/20230419200702/https://www.business.govt.nz/: 429 Client Error: Too Many Requests for url: https://web.archive.org/web/20230419200702/https://www.business.govt.nz/\n"
          ]
        },
        {
          "output_type": "stream",
          "name": "stderr",
          "text": [
            "Scraping snapshots:  89%|████████▉ | 2159/2413 [1:50:26<13:04,  3.09s/it]"
          ]
        },
        {
          "output_type": "stream",
          "name": "stdout",
          "text": [
            "Network error while scraping https://web.archive.org/web/20230514005811/https://www.business.govt.nz/: 403 Client Error: Forbidden for url: https://web.archive.org/web/20230514005811/https://www.business.govt.nz/\n"
          ]
        },
        {
          "output_type": "stream",
          "name": "stderr",
          "text": [
            "Scraping snapshots:  95%|█████████▍| 2284/2413 [1:56:54<06:26,  3.00s/it]"
          ]
        },
        {
          "output_type": "stream",
          "name": "stdout",
          "text": [
            "Network error while scraping https://web.archive.org/web/20240413065546/https://www.business.govt.nz/: 429 Client Error: Too Many Requests for url: https://web.archive.org/web/20240413065546/https://www.business.govt.nz/\n"
          ]
        },
        {
          "output_type": "stream",
          "name": "stderr",
          "text": [
            "Scraping snapshots: 100%|██████████| 2413/2413 [2:03:39<00:00,  3.07s/it]"
          ]
        },
        {
          "output_type": "stream",
          "name": "stdout",
          "text": [
            "Data saved to /content/drive/MyDrive/DA713/wayback_snapshots_with_timestamps_23Dec2024_business.csv\n"
          ]
        },
        {
          "output_type": "stream",
          "name": "stderr",
          "text": [
            "\n"
          ]
        }
      ],
      "source": [
        "# Updated Code to Keep Wayback Machine Timestamp and Format It\n",
        "\n",
        "import requests\n",
        "from bs4 import BeautifulSoup\n",
        "import pandas as pd\n",
        "import time\n",
        "from tqdm import tqdm\n",
        "from datetime import datetime\n",
        "\n",
        "# Function to query Wayback Machine API and get all snapshots within a date range\n",
        "def get_wayback_snapshots(url, start_date, end_date):\n",
        "    \"\"\"\n",
        "    Query the Wayback Machine API for all snapshots of a URL within a date range.\n",
        "\n",
        "    Parameters:\n",
        "        url (str): The URL to query.\n",
        "        start_date (str): Start date in YYYYMMDD format.\n",
        "        end_date (str): End date in YYYYMMDD format.\n",
        "\n",
        "    Returns:\n",
        "        list: A list of dictionaries containing snapshot URLs and timestamps.\n",
        "    \"\"\"\n",
        "    wayback_api_url = f\"http://web.archive.org/cdx/search/cdx?url={url}&output=json&collapse=digest&from={start_date}&to={end_date}\"\n",
        "    try:\n",
        "        response = requests.get(wayback_api_url, timeout=30)\n",
        "        response.raise_for_status()\n",
        "        snapshots = response.json()[1:]  # Skip the header row\n",
        "        return [\n",
        "            {\"snapshot_url\": f\"https://web.archive.org/web/{snapshot[1]}/{snapshot[2]}\", \"timestamp\": snapshot[1]}\n",
        "            for snapshot in snapshots\n",
        "        ]\n",
        "    except requests.exceptions.RequestException as e:\n",
        "        print(f\"Error fetching Wayback Machine snapshots: {e}\")\n",
        "        return []\n",
        "\n",
        "# Function to get SEO features and additional metadata from a webpage\n",
        "def get_seo_features(url, session):\n",
        "    \"\"\"\n",
        "    Extract SEO features and additional metadata from a webpage.\n",
        "\n",
        "    Parameters:\n",
        "        url (str): The URL of the webpage.\n",
        "        session (requests.Session): The session for making requests.\n",
        "\n",
        "    Returns:\n",
        "        dict: A dictionary of SEO data.\n",
        "    \"\"\"\n",
        "    try:\n",
        "        response = session.get(url, timeout=30)\n",
        "        response.raise_for_status()\n",
        "        soup = BeautifulSoup(response.text, 'lxml')\n",
        "\n",
        "        # Extract metadata\n",
        "        keywords = soup.find('meta', attrs={'name': 'keywords'})\n",
        "        description = soup.find('meta', attrs={'name': 'description'})\n",
        "        dc_description = soup.find('meta', attrs={'name': 'DC.Description'})\n",
        "\n",
        "        return {\n",
        "            'title': soup.find('title').text.strip() if soup.find('title') else 'No title found',\n",
        "            'meta_description': description['content'].strip() if description else 'No description found',\n",
        "            'h1_tags': [h1.text.strip() for h1 in soup.find_all('h1')],\n",
        "            'word_count': len(soup.get_text(strip=True).split()),\n",
        "            'keywords': keywords['content'].strip() if keywords else 'No keywords found',\n",
        "            'description': description['content'].strip() if description else 'No description found',\n",
        "            'DC.Description': dc_description['content'].strip() if dc_description else 'No DC.Description found'\n",
        "        }\n",
        "    except requests.exceptions.RequestException as e:\n",
        "        print(f\"Network error while scraping {url}: {e}\")\n",
        "    except Exception as e:\n",
        "        print(f\"Parsing error for {url}: {e}\")\n",
        "    return {\n",
        "        'title': 'Error',\n",
        "        'meta_description': 'Error',\n",
        "        'h1_tags': 'Error',\n",
        "        'word_count': 0,\n",
        "        'keywords': 'Error',\n",
        "        'description': 'Error',\n",
        "        'DC.Description': 'Error'\n",
        "    }\n",
        "\n",
        "# Function to save data to CSV\n",
        "def save_to_csv(data, filename):\n",
        "    \"\"\"\n",
        "    Save data to a CSV file.\n",
        "\n",
        "    Parameters:\n",
        "        data (list): List of dictionaries containing data.\n",
        "        filename (str): Output CSV filename.\n",
        "    \"\"\"\n",
        "    pd.DataFrame(data).to_csv(filename, index=False, encoding='utf-8')\n",
        "    print(f\"Data saved to {filename}\")\n",
        "\n",
        "# Main function to scrape all snapshots from Wayback Machine\n",
        "def scrape_wayback_pages(original_url, start_date, end_date, output_filename=\"/content/drive/MyDrive/DA713/wayback_filtered_snapshots_data.csv\"):\n",
        "    \"\"\"\n",
        "    Scrape all snapshots from Wayback Machine for a given URL and save SEO data to a CSV.\n",
        "\n",
        "    Parameters:\n",
        "        original_url (str): The URL to scrape snapshots for.\n",
        "        start_date (str): Start date in YYYYMMDD format.\n",
        "        end_date (str): End date in YYYYMMDD format.\n",
        "        output_filename (str): The name of the output CSV file.\n",
        "    \"\"\"\n",
        "    snapshots = get_wayback_snapshots(original_url, start_date, end_date)\n",
        "    print(f\"Found {len(snapshots)} snapshots.\")\n",
        "\n",
        "    all_data = []\n",
        "    session = requests.Session()  # Reuse session for efficiency\n",
        "\n",
        "    for snapshot in tqdm(snapshots, desc=\"Scraping snapshots\"):\n",
        "        snapshot_url = snapshot['snapshot_url']\n",
        "        original_timestamp = snapshot['timestamp']\n",
        "\n",
        "        # Convert Wayback Machine timestamp to human-readable format\n",
        "        formatted_timestamp = datetime.strptime(original_timestamp, \"%Y%m%d%H%M%S\").strftime(\"%Y-%m-%d %H:%M:%S\")\n",
        "\n",
        "        seo_data = get_seo_features(snapshot_url, session)\n",
        "        seo_data['snapshot_url'] = snapshot_url\n",
        "        seo_data['Timestamp'] = formatted_timestamp  # Use formatted timestamp\n",
        "        all_data.append(seo_data)\n",
        "        time.sleep(1)  # Be polite to the server\n",
        "\n",
        "    save_to_csv(all_data, output_filename)\n",
        "\n",
        "# Example usage\n",
        "original_url = \"https://www.business.govt.nz/\"\n",
        "start_date = \"20150101\"  # Start date: 01 Jan 2015\n",
        "end_date = \"20241130\"    # End date: 30 Nov 2024\n",
        "scrape_wayback_pages(original_url, start_date, end_date, output_filename=\"/content/drive/MyDrive/DA713/wayback_snapshots_with_timestamps_23Dec2024_business.csv\")\n"
      ]
    },
    {
      "cell_type": "code",
      "execution_count": null,
      "id": "2964c111-71f9-4d67-b1a0-3ab37c89c413",
      "metadata": {
        "id": "2964c111-71f9-4d67-b1a0-3ab37c89c413"
      },
      "outputs": [],
      "source": []
    }
  ],
  "metadata": {
    "kernelspec": {
      "display_name": "Python 3 (ipykernel)",
      "language": "python",
      "name": "python3"
    },
    "language_info": {
      "codemirror_mode": {
        "name": "ipython",
        "version": 3
      },
      "file_extension": ".py",
      "mimetype": "text/x-python",
      "name": "python",
      "nbconvert_exporter": "python",
      "pygments_lexer": "ipython3",
      "version": "3.12.3"
    },
    "colab": {
      "provenance": [],
      "include_colab_link": true
    }
  },
  "nbformat": 4,
  "nbformat_minor": 5
}