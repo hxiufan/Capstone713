{
 "cells": [
  {
   "cell_type": "code",
   "execution_count": 1,
   "id": "596edb17-eb5c-4fdf-b133-13f35e5a01c1",
   "metadata": {},
   "outputs": [],
   "source": [
    "import pandas as pd"
   ]
  },
  {
   "cell_type": "code",
   "execution_count": null,
   "id": "0054ffe5-0125-4fb0-8009-dce4a678a5c7",
   "metadata": {},
   "outputs": [],
   "source": [
    "# Load the dataset\n",
    "df = pd.read_csv('Ranking_History_studylink.govt.nz_12_27_2024_all.csv')"
   ]
  },
  {
   "cell_type": "code",
   "execution_count": null,
   "id": "169fd56c-64bb-4b7f-961b-9e5deb8cdfc6",
   "metadata": {},
   "outputs": [],
   "source": [
    "# Observe the dataset\n",
    "df.head()"
   ]
  },
  {
   "cell_type": "code",
   "execution_count": null,
   "id": "db06b8ca-22e9-4523-a55b-1df56c89d372",
   "metadata": {},
   "outputs": [],
   "source": [
    "df.info()"
   ]
  },
  {
   "cell_type": "code",
   "execution_count": null,
   "id": "f92915fd-7fae-4267-a790-e51746b24540",
   "metadata": {},
   "outputs": [],
   "source": [
    "# Drop specified columns\n",
    "df.drop(columns=['TopLevel', 'SecondLevel', 'ThirdLevel', 'FourthLevel', 'FifthLevel'], inplace=True)"
   ]
  },
  {
   "cell_type": "code",
   "execution_count": null,
   "id": "9fda4666-93bf-416a-9dee-e748b19a6dec",
   "metadata": {},
   "outputs": [],
   "source": [
    "# Fill NaN values in numeric columns with 0\n",
    "numeric_columns_to_fill = ['StartRank', 'EndRank', 'RankChange', 'EndClicks', 'ClicksChange', 'SearchVolume']\n",
    "df[numeric_columns_to_fill] = df[numeric_columns_to_fill].fillna(0)"
   ]
  },
  {
   "cell_type": "code",
   "execution_count": null,
   "id": "b1670444-c57f-4dda-b051-02a08a61c67f",
   "metadata": {},
   "outputs": [],
   "source": [
    "# Identify missing values in all columns\n",
    "missing_values = df.isnull().sum()\n",
    "\n",
    "# Display missing values\n",
    "print(missing_values)\n",
    "\n",
    "# Display the first few rows of the cleaned dataset\n",
    "df.head()"
   ]
  },
  {
   "cell_type": "code",
   "execution_count": null,
   "id": "f20e3ae2-8df7-4066-92a1-c5b9497a2769",
   "metadata": {},
   "outputs": [],
   "source": [
    "# Ignore missing values in the dates columns"
   ]
  },
  {
   "cell_type": "code",
   "execution_count": null,
   "id": "793b760c-ec6b-4375-a59f-33964a14000a",
   "metadata": {},
   "outputs": [],
   "source": [
    "# Check for duplicate values in 'Keyword' column\n",
    "duplicates = df['Keyword'].duplicated().sum()\n",
    "print(f'Number of duplicate Keywords: {duplicates}')"
   ]
  },
  {
   "cell_type": "code",
   "execution_count": null,
   "id": "2c00be75-5536-4457-8b8c-35dd266949e4",
   "metadata": {},
   "outputs": [],
   "source": [
    "# Remove duplicate rows based on 'Keyword', keeping the first occurrence\n",
    "df = df.drop_duplicates(subset='Keyword', keep='first')"
   ]
  },
  {
   "cell_type": "code",
   "execution_count": null,
   "id": "56c8e1e4-7a2a-4386-bf28-2c95ef2a77c2",
   "metadata": {},
   "outputs": [],
   "source": [
    "# Drop more columns which are not revlevance to our analysis\n",
    "drop_columns = ['StartRank', 'RankChange', 'ClicksChange']\n",
    "df = df.drop(columns=drop_columns)"
   ]
  },
  {
   "cell_type": "code",
   "execution_count": null,
   "id": "411ccbbb-5e18-4b07-ab6b-662368b0d3f8",
   "metadata": {},
   "outputs": [],
   "source": [
    "df.info()"
   ]
  },
  {
   "cell_type": "code",
   "execution_count": null,
   "id": "1a876708-0f92-4bb2-a242-b7244050df24",
   "metadata": {},
   "outputs": [],
   "source": [
    "# Open the dataset from webscraping, to get the latest meta description data"
   ]
  },
  {
   "cell_type": "code",
   "execution_count": null,
   "id": "52c7f6d2-64d2-42b1-87c4-8e00c2a329d0",
   "metadata": {},
   "outputs": [],
   "source": [
    "df2=pd.read_csv('StudyLink_DateConverted.csv')"
   ]
  },
  {
   "cell_type": "code",
   "execution_count": null,
   "id": "490d82fd-0dc8-48d9-a85b-57693a73962a",
   "metadata": {},
   "outputs": [],
   "source": [
    "df2.info()"
   ]
  },
  {
   "cell_type": "code",
   "execution_count": null,
   "id": "e0a398e0-285d-4501-9689-cc8765dab731",
   "metadata": {},
   "outputs": [],
   "source": [
    "# Display column names to verify the correct name for 'Timestamp'\n",
    "print(df2.columns)"
   ]
  },
  {
   "cell_type": "code",
   "execution_count": null,
   "id": "80ea7045-43f6-4fde-9800-af88acd1a1a1",
   "metadata": {},
   "outputs": [],
   "source": [
    "# Ensure the correct column name is used for datetime conversion\n",
    "# Replace 'Timestamp' with the correct column name from the printed columns\n",
    "correct_timestamp_column = 'Timestamp'  # Update this if necessary\n",
    "df2[correct_timestamp_column] = pd.to_datetime(df2[correct_timestamp_column], errors='coerce')"
   ]
  },
  {
   "cell_type": "code",
   "execution_count": null,
   "id": "23e02f5d-a4bb-4f68-a996-a71819fe9ed4",
   "metadata": {},
   "outputs": [],
   "source": [
    "# Find the row with the latest Timestamp\n",
    "latest_row = df2.loc[df2['Timestamp'].idxmax()]\n"
   ]
  },
  {
   "cell_type": "code",
   "execution_count": null,
   "id": "822e29ba-a6d7-4e14-8fdd-0968035389d1",
   "metadata": {},
   "outputs": [],
   "source": [
    "# Get the value in the 'keywords' column for the latest Timestamp\n",
    "latest_description = latest_row['description']"
   ]
  },
  {
   "cell_type": "code",
   "execution_count": null,
   "id": "3578669a-4b1b-48ae-8e52-a2d5d01667fe",
   "metadata": {},
   "outputs": [],
   "source": [
    "print(\"Latest description:\", latest_description)"
   ]
  },
  {
   "cell_type": "code",
   "execution_count": null,
   "id": "2302ce14-f9b9-488d-aeeb-2a18ac566708",
   "metadata": {},
   "outputs": [],
   "source": [
    "# Add a new column 'description' to the first dataset "
   ]
  },
  {
   "cell_type": "code",
   "execution_count": null,
   "id": "0674d8e1-3b27-4d38-8c1d-c1b007b6d360",
   "metadata": {},
   "outputs": [],
   "source": [
    "# Add a new column 'description'\n",
    "df['description'] = latest_description"
   ]
  },
  {
   "cell_type": "code",
   "execution_count": null,
   "id": "2ca8b784-4afb-4cbb-96a7-fe9a92037246",
   "metadata": {},
   "outputs": [],
   "source": [
    "df.head()"
   ]
  },
  {
   "cell_type": "code",
   "execution_count": null,
   "id": "448e7f9c-9e1d-4422-9ee8-e56d3c62e997",
   "metadata": {},
   "outputs": [],
   "source": []
  },
  {
   "cell_type": "code",
   "execution_count": null,
   "id": "77393f8d-4500-4a17-ab1d-e4764803cade",
   "metadata": {},
   "outputs": [],
   "source": [
    "# Perform TF-IDF analysis on 'Keyword' and 'description'"
   ]
  },
  {
   "cell_type": "code",
   "execution_count": null,
   "id": "cbbfc2a2-86bd-45b5-bc8b-a9b386a58f88",
   "metadata": {},
   "outputs": [],
   "source": [
    "from sklearn.feature_extraction.text import TfidfVectorizer\n",
    "import numpy as np"
   ]
  },
  {
   "cell_type": "code",
   "execution_count": null,
   "id": "f676ada7-542c-4173-a06b-fe22a859c5ab",
   "metadata": {},
   "outputs": [],
   "source": [
    "# Perform TF-IDF analysis on 'Keyword' and 'description'\n",
    "df['Keyword'] = df['Keyword'].fillna('')\n",
    "df['description'] = df['description'].fillna('')\n",
    "\n",
    "tfidf_vectorizer = TfidfVectorizer()\n",
    "tfidf_matrix = tfidf_vectorizer.fit_transform(df['Keyword'] + ' ' + df['description'])\n",
    "df['TF-IDF_score'] = np.mean(tfidf_matrix.toarray(), axis=1)"
   ]
  },
  {
   "cell_type": "code",
   "execution_count": null,
   "id": "8db2b201-7b19-4420-84ce-66c8c5080d84",
   "metadata": {},
   "outputs": [],
   "source": [
    "df.head()"
   ]
  },
  {
   "cell_type": "code",
   "execution_count": null,
   "id": "9207e02c-6041-4c58-9863-e98753f93697",
   "metadata": {},
   "outputs": [],
   "source": [
    "df.to_csv('rank_keywords_studylink_cleaned_score.csv', index=False)"
   ]
  },
  {
   "cell_type": "code",
   "execution_count": null,
   "id": "95cc5a1d-27de-42c3-a22c-71407e449e86",
   "metadata": {},
   "outputs": [],
   "source": []
  },
  {
   "cell_type": "code",
   "execution_count": null,
   "id": "4609e3e9-d4e6-46af-87be-2945f7fd0afc",
   "metadata": {},
   "outputs": [],
   "source": [
    "# Impute on the date data "
   ]
  },
  {
   "cell_type": "code",
   "execution_count": null,
   "id": "71fcc573-b015-4ecc-9a53-a2eece4ca376",
   "metadata": {},
   "outputs": [],
   "source": [
    "import pandas as pd"
   ]
  },
  {
   "cell_type": "code",
   "execution_count": 15,
   "id": "85e706cc-465a-444d-81f9-a1767b8edb7e",
   "metadata": {},
   "outputs": [],
   "source": [
    "df=pd.read_csv('rank_keywords_studylink_cleaned_score.csv')"
   ]
  },
  {
   "cell_type": "code",
   "execution_count": null,
   "id": "1e4214d7-f4bd-463c-9208-588da49ee4bc",
   "metadata": {
    "scrolled": true
   },
   "outputs": [],
   "source": [
    "# Create a subset 'df_rank_change' by dropping specified columns\n",
    "columns_to_drop = ['EndRank', 'EndClicks', 'SearchVolume', 'description', 'TF-IDF_score']\n",
    "df_rank_change = df.drop(columns=columns_to_drop, errors='ignore')\n"
   ]
  },
  {
   "cell_type": "code",
   "execution_count": null,
   "id": "be9aede4-3758-4eaa-a910-bc34073b76be",
   "metadata": {},
   "outputs": [],
   "source": [
    "# Display the first few rows of the subset to verify\n",
    "df_rank_change.head()"
   ]
  },
  {
   "cell_type": "code",
   "execution_count": null,
   "id": "2590746c-ee33-45f0-b71d-cbca10ed6827",
   "metadata": {},
   "outputs": [],
   "source": [
    "# Transpose the dataframe, making the rows become columns\n",
    "df_rank_change = df_rank_change.transpose().reset_index()"
   ]
  },
  {
   "cell_type": "code",
   "execution_count": null,
   "id": "7f0c3ca2-818c-4fc4-ad7e-c5808140a76c",
   "metadata": {},
   "outputs": [],
   "source": [
    "df_rank_change.head()"
   ]
  },
  {
   "cell_type": "code",
   "execution_count": null,
   "id": "674bfe52-67d6-4769-9a8d-bd7ca1206e77",
   "metadata": {},
   "outputs": [],
   "source": [
    "df_rank_change.columns = df_rank_change.iloc[0]"
   ]
  },
  {
   "cell_type": "code",
   "execution_count": null,
   "id": "4788ed26-c530-4796-b380-73b748934afa",
   "metadata": {},
   "outputs": [],
   "source": [
    "# Drop the first row of the dataframe\n",
    "df_rank_change = df_rank_change.iloc[1:].reset_index(drop=True)"
   ]
  },
  {
   "cell_type": "code",
   "execution_count": null,
   "id": "63d796bf-71d8-417f-ad6c-86c2bc95afb9",
   "metadata": {},
   "outputs": [],
   "source": [
    "df_rank_change.head()"
   ]
  },
  {
   "cell_type": "code",
   "execution_count": null,
   "id": "59edde3d-b691-4c17-adee-042856d9cfe7",
   "metadata": {},
   "outputs": [],
   "source": [
    "# Rename the first row's 'Keyword' column to 'Date'\n",
    "df_rank_change.rename(columns={'Keyword': 'Date'}, inplace=True)"
   ]
  },
  {
   "cell_type": "code",
   "execution_count": null,
   "id": "a8067907-34c3-4a13-8163-c87463510935",
   "metadata": {},
   "outputs": [],
   "source": [
    "df_rank_change.head()"
   ]
  },
  {
   "cell_type": "code",
   "execution_count": null,
   "id": "2a95187c-00bc-4e0b-9740-0b3a528b06bc",
   "metadata": {},
   "outputs": [],
   "source": [
    "# Convert 'Date' column to datetime with format 'mm/yyyy'\n",
    "df_rank_change['Date'] = pd.to_datetime(df_rank_change['Date'], format='%m/%Y', errors='coerce').dt.strftime('%m/%Y')"
   ]
  },
  {
   "cell_type": "code",
   "execution_count": null,
   "id": "741d4451-2515-4465-b9da-2848379edb08",
   "metadata": {},
   "outputs": [],
   "source": [
    "# Ensure target columns are numeric\n",
    "target_cols = df_rank_change.columns[1:]\n",
    "df_rank_change[target_cols] = df_rank_change[target_cols].apply(pd.to_numeric, errors='coerce')"
   ]
  },
  {
   "cell_type": "code",
   "execution_count": null,
   "id": "fccf0554-faba-4fca-ba4a-78cf2fe640ab",
   "metadata": {},
   "outputs": [],
   "source": [
    "# Impute missing values in numeric columns using KNearestNeighbors\n",
    "from sklearn.impute import KNNImputer\n",
    "import numpy as np"
   ]
  },
  {
   "cell_type": "code",
   "execution_count": null,
   "id": "53e145b5-bcb5-4fdb-8918-32aee924f2a8",
   "metadata": {},
   "outputs": [],
   "source": [
    "imputer = KNNImputer(n_neighbors=5)\n",
    "numeric_cols = df_rank_change.select_dtypes(include=np.number).columns\n",
    "if not numeric_cols.empty:\n",
    "    df_rank_change[numeric_cols] = imputer.fit_transform(df_rank_change[numeric_cols])"
   ]
  },
  {
   "cell_type": "code",
   "execution_count": null,
   "id": "60e3b33c-7608-4432-8aae-ec256a2683d6",
   "metadata": {},
   "outputs": [],
   "source": [
    "df_rank_change.head()"
   ]
  },
  {
   "cell_type": "code",
   "execution_count": null,
   "id": "0e93c7e8-d739-4152-bd08-272a2ed4abc2",
   "metadata": {},
   "outputs": [],
   "source": [
    "# Store the transposed data into a csv for more imputation later on\n",
    "df_rank_change.to_csv('rank_keywords_studylink_cleaned_transposed.csv', index=False)"
   ]
  },
  {
   "cell_type": "code",
   "execution_count": null,
   "id": "70bc6188-0e79-4520-8a48-1e2191183584",
   "metadata": {},
   "outputs": [],
   "source": [
    "###"
   ]
  },
  {
   "cell_type": "code",
   "execution_count": 3,
   "id": "4b992d39-744d-409c-af78-bb5bc46db0a0",
   "metadata": {},
   "outputs": [],
   "source": [
    "# Import the transposed dataset again\n",
    "df_rank_change = pd.read_csv('rank_keywords_studylink_cleaned_transposed.csv')"
   ]
  },
  {
   "cell_type": "code",
   "execution_count": null,
   "id": "942e4fdb-00c1-4f63-8d46-8a7f57cd527f",
   "metadata": {},
   "outputs": [],
   "source": []
  },
  {
   "cell_type": "code",
   "execution_count": 5,
   "id": "66783558-add9-41d9-a0a3-786e0e33a49f",
   "metadata": {},
   "outputs": [],
   "source": [
    "# Transpose the dataframe back to original shape\n",
    "df_rank_change = df_rank_change.transpose()"
   ]
  },
  {
   "cell_type": "code",
   "execution_count": 7,
   "id": "8b6a2fdd-3d3e-4326-b4ac-7753f420c289",
   "metadata": {},
   "outputs": [],
   "source": [
    "df_rank_change.columns = df_rank_change.iloc[0]"
   ]
  },
  {
   "cell_type": "code",
   "execution_count": 11,
   "id": "f409922f-eceb-4b01-a222-390b4339279a",
   "metadata": {},
   "outputs": [],
   "source": [
    "df_rank_change = df_rank_change.iloc[1:].reset_index(drop=True)"
   ]
  },
  {
   "cell_type": "code",
   "execution_count": 13,
   "id": "19ef16f4-89aa-4ab8-b223-edfaebbe52a6",
   "metadata": {},
   "outputs": [
    {
     "data": {
      "text/html": [
       "<div>\n",
       "<style scoped>\n",
       "    .dataframe tbody tr th:only-of-type {\n",
       "        vertical-align: middle;\n",
       "    }\n",
       "\n",
       "    .dataframe tbody tr th {\n",
       "        vertical-align: top;\n",
       "    }\n",
       "\n",
       "    .dataframe thead th {\n",
       "        text-align: right;\n",
       "    }\n",
       "</style>\n",
       "<table border=\"1\" class=\"dataframe\">\n",
       "  <thead>\n",
       "    <tr style=\"text-align: right;\">\n",
       "      <th>Date</th>\n",
       "      <th>03/2021</th>\n",
       "      <th>04/2021</th>\n",
       "      <th>05/2021</th>\n",
       "      <th>06/2021</th>\n",
       "      <th>07/2021</th>\n",
       "      <th>08/2021</th>\n",
       "      <th>09/2021</th>\n",
       "      <th>10/2021</th>\n",
       "      <th>11/2021</th>\n",
       "      <th>12/2021</th>\n",
       "      <th>...</th>\n",
       "      <th>03/2024</th>\n",
       "      <th>04/2024</th>\n",
       "      <th>05/2024</th>\n",
       "      <th>06/2024</th>\n",
       "      <th>07/2024</th>\n",
       "      <th>08/2024</th>\n",
       "      <th>09/2024</th>\n",
       "      <th>10/2024</th>\n",
       "      <th>11/2024</th>\n",
       "      <th>12/2024</th>\n",
       "    </tr>\n",
       "  </thead>\n",
       "  <tbody>\n",
       "    <tr>\n",
       "      <th>0</th>\n",
       "      <td>17.333333</td>\n",
       "      <td>17.4</td>\n",
       "      <td>18.0</td>\n",
       "      <td>16.2</td>\n",
       "      <td>17.6</td>\n",
       "      <td>18.0</td>\n",
       "      <td>17.6</td>\n",
       "      <td>18.0</td>\n",
       "      <td>17.4</td>\n",
       "      <td>18.0</td>\n",
       "      <td>...</td>\n",
       "      <td>14.0</td>\n",
       "      <td>18.0</td>\n",
       "      <td>18.0</td>\n",
       "      <td>17.2</td>\n",
       "      <td>16.0</td>\n",
       "      <td>18.0</td>\n",
       "      <td>17.6</td>\n",
       "      <td>17.6</td>\n",
       "      <td>17.0</td>\n",
       "      <td>17.4</td>\n",
       "    </tr>\n",
       "    <tr>\n",
       "      <th>1</th>\n",
       "      <td>38.909091</td>\n",
       "      <td>41.4</td>\n",
       "      <td>37.6</td>\n",
       "      <td>37.8</td>\n",
       "      <td>42.0</td>\n",
       "      <td>39.8</td>\n",
       "      <td>42.0</td>\n",
       "      <td>42.0</td>\n",
       "      <td>42.0</td>\n",
       "      <td>40.0</td>\n",
       "      <td>...</td>\n",
       "      <td>38.6</td>\n",
       "      <td>36.4</td>\n",
       "      <td>39.0</td>\n",
       "      <td>37.8</td>\n",
       "      <td>35.0</td>\n",
       "      <td>38.8</td>\n",
       "      <td>36.0</td>\n",
       "      <td>41.6</td>\n",
       "      <td>35.0</td>\n",
       "      <td>39.0</td>\n",
       "    </tr>\n",
       "    <tr>\n",
       "      <th>2</th>\n",
       "      <td>74.285714</td>\n",
       "      <td>68.8</td>\n",
       "      <td>72.8</td>\n",
       "      <td>71.0</td>\n",
       "      <td>72.8</td>\n",
       "      <td>68.8</td>\n",
       "      <td>68.8</td>\n",
       "      <td>68.8</td>\n",
       "      <td>72.8</td>\n",
       "      <td>68.8</td>\n",
       "      <td>...</td>\n",
       "      <td>68.8</td>\n",
       "      <td>91.0</td>\n",
       "      <td>75.6</td>\n",
       "      <td>79.6</td>\n",
       "      <td>79.6</td>\n",
       "      <td>79.6</td>\n",
       "      <td>73.8</td>\n",
       "      <td>80.0</td>\n",
       "      <td>74.0</td>\n",
       "      <td>79.0</td>\n",
       "    </tr>\n",
       "    <tr>\n",
       "      <th>3</th>\n",
       "      <td>64.666667</td>\n",
       "      <td>62.8</td>\n",
       "      <td>62.8</td>\n",
       "      <td>66.6</td>\n",
       "      <td>62.8</td>\n",
       "      <td>62.8</td>\n",
       "      <td>62.8</td>\n",
       "      <td>62.8</td>\n",
       "      <td>62.8</td>\n",
       "      <td>62.8</td>\n",
       "      <td>...</td>\n",
       "      <td>62.8</td>\n",
       "      <td>55.0</td>\n",
       "      <td>60.8</td>\n",
       "      <td>84.0</td>\n",
       "      <td>67.4</td>\n",
       "      <td>67.4</td>\n",
       "      <td>62.8</td>\n",
       "      <td>74.0</td>\n",
       "      <td>67.4</td>\n",
       "      <td>62.8</td>\n",
       "    </tr>\n",
       "    <tr>\n",
       "      <th>4</th>\n",
       "      <td>69.444444</td>\n",
       "      <td>70.2</td>\n",
       "      <td>70.6</td>\n",
       "      <td>69.0</td>\n",
       "      <td>69.8</td>\n",
       "      <td>68.4</td>\n",
       "      <td>70.2</td>\n",
       "      <td>70.6</td>\n",
       "      <td>68.8</td>\n",
       "      <td>69.8</td>\n",
       "      <td>...</td>\n",
       "      <td>68.0</td>\n",
       "      <td>66.0</td>\n",
       "      <td>69.8</td>\n",
       "      <td>70.0</td>\n",
       "      <td>69.8</td>\n",
       "      <td>77.0</td>\n",
       "      <td>70.6</td>\n",
       "      <td>66.0</td>\n",
       "      <td>69.4</td>\n",
       "      <td>68.6</td>\n",
       "    </tr>\n",
       "  </tbody>\n",
       "</table>\n",
       "<p>5 rows × 46 columns</p>\n",
       "</div>"
      ],
      "text/plain": [
       "Date    03/2021 04/2021 05/2021 06/2021 07/2021 08/2021 09/2021 10/2021  \\\n",
       "0     17.333333    17.4    18.0    16.2    17.6    18.0    17.6    18.0   \n",
       "1     38.909091    41.4    37.6    37.8    42.0    39.8    42.0    42.0   \n",
       "2     74.285714    68.8    72.8    71.0    72.8    68.8    68.8    68.8   \n",
       "3     64.666667    62.8    62.8    66.6    62.8    62.8    62.8    62.8   \n",
       "4     69.444444    70.2    70.6    69.0    69.8    68.4    70.2    70.6   \n",
       "\n",
       "Date 11/2021 12/2021  ... 03/2024 04/2024 05/2024 06/2024 07/2024 08/2024  \\\n",
       "0       17.4    18.0  ...    14.0    18.0    18.0    17.2    16.0    18.0   \n",
       "1       42.0    40.0  ...    38.6    36.4    39.0    37.8    35.0    38.8   \n",
       "2       72.8    68.8  ...    68.8    91.0    75.6    79.6    79.6    79.6   \n",
       "3       62.8    62.8  ...    62.8    55.0    60.8    84.0    67.4    67.4   \n",
       "4       68.8    69.8  ...    68.0    66.0    69.8    70.0    69.8    77.0   \n",
       "\n",
       "Date 09/2024 10/2024 11/2024 12/2024  \n",
       "0       17.6    17.6    17.0    17.4  \n",
       "1       36.0    41.6    35.0    39.0  \n",
       "2       73.8    80.0    74.0    79.0  \n",
       "3       62.8    74.0    67.4    62.8  \n",
       "4       70.6    66.0    69.4    68.6  \n",
       "\n",
       "[5 rows x 46 columns]"
      ]
     },
     "execution_count": 13,
     "metadata": {},
     "output_type": "execute_result"
    }
   ],
   "source": [
    "df_rank_change.head()"
   ]
  },
  {
   "cell_type": "code",
   "execution_count": 17,
   "id": "2debe752-16ef-414e-98e5-b68b52e59042",
   "metadata": {},
   "outputs": [],
   "source": [
    "# Create a new dataframe 'df_imputed' by joining selected columns from 'df' to 'df_rank_change'\n",
    "selected_columns = ['Keyword', 'EndRank', 'EndClicks', 'SearchVolume', 'description', 'TF-IDF_score']\n",
    "df_imputed = pd.concat([df[selected_columns], df_rank_change], axis=1)"
   ]
  },
  {
   "cell_type": "code",
   "execution_count": 19,
   "id": "30f96992-9711-46c3-a0c6-a26a1085055e",
   "metadata": {},
   "outputs": [
    {
     "data": {
      "text/html": [
       "<div>\n",
       "<style scoped>\n",
       "    .dataframe tbody tr th:only-of-type {\n",
       "        vertical-align: middle;\n",
       "    }\n",
       "\n",
       "    .dataframe tbody tr th {\n",
       "        vertical-align: top;\n",
       "    }\n",
       "\n",
       "    .dataframe thead th {\n",
       "        text-align: right;\n",
       "    }\n",
       "</style>\n",
       "<table border=\"1\" class=\"dataframe\">\n",
       "  <thead>\n",
       "    <tr style=\"text-align: right;\">\n",
       "      <th></th>\n",
       "      <th>Keyword</th>\n",
       "      <th>EndRank</th>\n",
       "      <th>EndClicks</th>\n",
       "      <th>SearchVolume</th>\n",
       "      <th>description</th>\n",
       "      <th>TF-IDF_score</th>\n",
       "      <th>03/2021</th>\n",
       "      <th>04/2021</th>\n",
       "      <th>05/2021</th>\n",
       "      <th>06/2021</th>\n",
       "      <th>...</th>\n",
       "      <th>03/2024</th>\n",
       "      <th>04/2024</th>\n",
       "      <th>05/2024</th>\n",
       "      <th>06/2024</th>\n",
       "      <th>07/2024</th>\n",
       "      <th>08/2024</th>\n",
       "      <th>09/2024</th>\n",
       "      <th>10/2024</th>\n",
       "      <th>11/2024</th>\n",
       "      <th>12/2024</th>\n",
       "    </tr>\n",
       "  </thead>\n",
       "  <tbody>\n",
       "    <tr>\n",
       "      <th>0</th>\n",
       "      <td>academic</td>\n",
       "      <td>17</td>\n",
       "      <td>12</td>\n",
       "      <td>1200.0</td>\n",
       "      <td>We help students make informed choices about t...</td>\n",
       "      <td>0.001933</td>\n",
       "      <td>17.333333</td>\n",
       "      <td>17.4</td>\n",
       "      <td>18.0</td>\n",
       "      <td>16.2</td>\n",
       "      <td>...</td>\n",
       "      <td>14.0</td>\n",
       "      <td>18.0</td>\n",
       "      <td>18.0</td>\n",
       "      <td>17.2</td>\n",
       "      <td>16.0</td>\n",
       "      <td>18.0</td>\n",
       "      <td>17.6</td>\n",
       "      <td>17.6</td>\n",
       "      <td>17.0</td>\n",
       "      <td>17.4</td>\n",
       "    </tr>\n",
       "    <tr>\n",
       "      <th>1</th>\n",
       "      <td>otago academic dates</td>\n",
       "      <td>35</td>\n",
       "      <td>0</td>\n",
       "      <td>0.0</td>\n",
       "      <td>We help students make informed choices about t...</td>\n",
       "      <td>0.002098</td>\n",
       "      <td>38.909091</td>\n",
       "      <td>41.4</td>\n",
       "      <td>37.6</td>\n",
       "      <td>37.8</td>\n",
       "      <td>...</td>\n",
       "      <td>38.6</td>\n",
       "      <td>36.4</td>\n",
       "      <td>39.0</td>\n",
       "      <td>37.8</td>\n",
       "      <td>35.0</td>\n",
       "      <td>38.8</td>\n",
       "      <td>36.0</td>\n",
       "      <td>41.6</td>\n",
       "      <td>35.0</td>\n",
       "      <td>39.0</td>\n",
       "    </tr>\n",
       "    <tr>\n",
       "      <th>2</th>\n",
       "      <td>university of auckland academic calendar</td>\n",
       "      <td>79</td>\n",
       "      <td>0</td>\n",
       "      <td>0.0</td>\n",
       "      <td>We help students make informed choices about t...</td>\n",
       "      <td>0.002211</td>\n",
       "      <td>74.285714</td>\n",
       "      <td>68.8</td>\n",
       "      <td>72.8</td>\n",
       "      <td>71.0</td>\n",
       "      <td>...</td>\n",
       "      <td>68.8</td>\n",
       "      <td>91.0</td>\n",
       "      <td>75.6</td>\n",
       "      <td>79.6</td>\n",
       "      <td>79.6</td>\n",
       "      <td>79.6</td>\n",
       "      <td>73.8</td>\n",
       "      <td>80.0</td>\n",
       "      <td>74.0</td>\n",
       "      <td>79.0</td>\n",
       "    </tr>\n",
       "    <tr>\n",
       "      <th>3</th>\n",
       "      <td>auckland university academic calendar</td>\n",
       "      <td>74</td>\n",
       "      <td>0</td>\n",
       "      <td>0.0</td>\n",
       "      <td>We help students make informed choices about t...</td>\n",
       "      <td>0.002110</td>\n",
       "      <td>64.666667</td>\n",
       "      <td>62.8</td>\n",
       "      <td>62.8</td>\n",
       "      <td>66.6</td>\n",
       "      <td>...</td>\n",
       "      <td>62.8</td>\n",
       "      <td>55.0</td>\n",
       "      <td>60.8</td>\n",
       "      <td>84.0</td>\n",
       "      <td>67.4</td>\n",
       "      <td>67.4</td>\n",
       "      <td>62.8</td>\n",
       "      <td>74.0</td>\n",
       "      <td>67.4</td>\n",
       "      <td>62.8</td>\n",
       "    </tr>\n",
       "    <tr>\n",
       "      <th>4</th>\n",
       "      <td>academic history vuw</td>\n",
       "      <td>66</td>\n",
       "      <td>0</td>\n",
       "      <td>0.0</td>\n",
       "      <td>We help students make informed choices about t...</td>\n",
       "      <td>0.001977</td>\n",
       "      <td>69.444444</td>\n",
       "      <td>70.2</td>\n",
       "      <td>70.6</td>\n",
       "      <td>69.0</td>\n",
       "      <td>...</td>\n",
       "      <td>68.0</td>\n",
       "      <td>66.0</td>\n",
       "      <td>69.8</td>\n",
       "      <td>70.0</td>\n",
       "      <td>69.8</td>\n",
       "      <td>77.0</td>\n",
       "      <td>70.6</td>\n",
       "      <td>66.0</td>\n",
       "      <td>69.4</td>\n",
       "      <td>68.6</td>\n",
       "    </tr>\n",
       "  </tbody>\n",
       "</table>\n",
       "<p>5 rows × 52 columns</p>\n",
       "</div>"
      ],
      "text/plain": [
       "                                    Keyword  EndRank  EndClicks  SearchVolume  \\\n",
       "0                                  academic       17         12        1200.0   \n",
       "1                      otago academic dates       35          0           0.0   \n",
       "2  university of auckland academic calendar       79          0           0.0   \n",
       "3     auckland university academic calendar       74          0           0.0   \n",
       "4                      academic history vuw       66          0           0.0   \n",
       "\n",
       "                                         description  TF-IDF_score    03/2021  \\\n",
       "0  We help students make informed choices about t...      0.001933  17.333333   \n",
       "1  We help students make informed choices about t...      0.002098  38.909091   \n",
       "2  We help students make informed choices about t...      0.002211  74.285714   \n",
       "3  We help students make informed choices about t...      0.002110  64.666667   \n",
       "4  We help students make informed choices about t...      0.001977  69.444444   \n",
       "\n",
       "  04/2021 05/2021 06/2021  ... 03/2024 04/2024 05/2024 06/2024 07/2024  \\\n",
       "0    17.4    18.0    16.2  ...    14.0    18.0    18.0    17.2    16.0   \n",
       "1    41.4    37.6    37.8  ...    38.6    36.4    39.0    37.8    35.0   \n",
       "2    68.8    72.8    71.0  ...    68.8    91.0    75.6    79.6    79.6   \n",
       "3    62.8    62.8    66.6  ...    62.8    55.0    60.8    84.0    67.4   \n",
       "4    70.2    70.6    69.0  ...    68.0    66.0    69.8    70.0    69.8   \n",
       "\n",
       "  08/2024 09/2024 10/2024 11/2024 12/2024  \n",
       "0    18.0    17.6    17.6    17.0    17.4  \n",
       "1    38.8    36.0    41.6    35.0    39.0  \n",
       "2    79.6    73.8    80.0    74.0    79.0  \n",
       "3    67.4    62.8    74.0    67.4    62.8  \n",
       "4    77.0    70.6    66.0    69.4    68.6  \n",
       "\n",
       "[5 rows x 52 columns]"
      ]
     },
     "execution_count": 19,
     "metadata": {},
     "output_type": "execute_result"
    }
   ],
   "source": [
    "df_imputed.head()"
   ]
  },
  {
   "cell_type": "code",
   "execution_count": 25,
   "id": "e168d322-2d1f-4c45-8307-13b85e7330b6",
   "metadata": {},
   "outputs": [],
   "source": [
    "# Store the imputed data to a new dataset, ready for import into dashboard\n",
    "df_imputed.to_csv('rank_keywords_studylink_cleaned_imputed.csv', index=False)"
   ]
  },
  {
   "cell_type": "code",
   "execution_count": null,
   "id": "d6e873f7-ed18-4820-95fb-746ff7147581",
   "metadata": {},
   "outputs": [],
   "source": []
  }
 ],
 "metadata": {
  "kernelspec": {
   "display_name": "Python 3 (ipykernel)",
   "language": "python",
   "name": "python3"
  },
  "language_info": {
   "codemirror_mode": {
    "name": "ipython",
    "version": 3
   },
   "file_extension": ".py",
   "mimetype": "text/x-python",
   "name": "python",
   "nbconvert_exporter": "python",
   "pygments_lexer": "ipython3",
   "version": "3.12.4"
  }
 },
 "nbformat": 4,
 "nbformat_minor": 5
}
